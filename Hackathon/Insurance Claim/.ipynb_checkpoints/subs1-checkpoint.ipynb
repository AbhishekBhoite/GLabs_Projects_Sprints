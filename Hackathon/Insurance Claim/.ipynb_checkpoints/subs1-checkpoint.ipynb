{
 "cells": [
  {
   "cell_type": "markdown",
   "metadata": {},
   "source": [
    "# Problem Statement\n",
    "## insurance companies take risks over customers. Risk management is a very important aspect of the insurance industry. Insurers consider every quantifiable factor to develop profiles of high and low insurance risks. Insurers collect vast amounts of information about policyholders and analyze the data.\n",
    "\n",
    "## As a Data scientist in an insurance company, you need to analyze the available data and predict whether to sanction the insurance or not.\n",
    "\n",
    "# Dataset Description\n",
    "### The training dataset consists of data corresponding to 52310 customers and the test dataset consists of 22421 customers.\n",
    "## Following are the features of the dataset\n",
    "\n",
    "Target: Claim Status (Claim)\n",
    "\n",
    "Name of agency (Agency)\n",
    "\n",
    "Type of travel insurance agencies (Agency.Type)\n",
    "\n",
    "Distribution channel of travel insurance agencies (Distribution.Channel)\n",
    "\n",
    "Name of the travel insurance products (Product.Name)\n",
    "\n",
    "Duration of travel (Duration)\n",
    "\n",
    "Destination of travel (Destination)\n",
    "\n",
    "Amount of sales of travel insurance policies (Net.Sales)\n",
    "\n",
    "The commission received for travel insurance agency (Commission)\n",
    "\n",
    "Age of insured (Age)\n",
    "\n",
    "The identification record of every observation (ID)\n",
    "\n",
    "# Evaluation Metric\n",
    "\n",
    "The evaluation metric for this task will be  precision_score. Read up about it more here.\n",
    "\n",
    "#"
   ]
  },
  {
   "cell_type": "code",
   "execution_count": 1,
   "metadata": {
    "executionInfo": {
     "elapsed": 1025,
     "status": "ok",
     "timestamp": 1604019432426,
     "user": {
      "displayName": "prashant yadav",
      "photoUrl": "https://lh3.googleusercontent.com/a-/AOh14Gj8K3KGg-ZADxoUNTNei78uOEioiM6n-ExckJjh_w=s64",
      "userId": "05926476527213396028"
     },
     "user_tz": -330
    },
    "id": "tWiG1oQq_iyK"
   },
   "outputs": [],
   "source": [
    "import pandas as pd\n",
    "import numpy as np\n",
    "import seaborn as sns\n",
    "from sklearn.model_selection import train_test_split\n",
    "from sklearn.linear_model import LogisticRegression\n",
    "from sklearn.ensemble import RandomForestClassifier\n",
    "from xgboost import XGBClassifier\n",
    "from sklearn.svm import LinearSVC\n",
    "from sklearn.neighbors import KNeighborsClassifier\n",
    "from sklearn.metrics import accuracy_score, precision_score, recall_score, confusion_matrix, f1_score\n",
    "from sklearn.model_selection import cross_val_score\n",
    "from sklearn.model_selection import StratifiedKFold\n",
    "from sklearn.metrics import classification_report\n",
    "from sklearn.metrics import roc_auc_score\n",
    "from scipy.stats import chi2_contingency\n",
    "import scipy.stats as stats\n",
    "from imblearn.over_sampling import SMOTE\n",
    "from imblearn.over_sampling import BorderlineSMOTE\n",
    "from imblearn.over_sampling import SVMSMOTE\n",
    "from imblearn.over_sampling import ADASYN\n",
    "from sklearn.model_selection import GridSearchCV\n",
    "from sklearn.model_selection import RandomizedSearchCV\n",
    "from matplotlib import pyplot as plt\n",
    "import category_encoders as ce\n",
    "from sklearn.preprocessing import LabelEncoder\n",
    "from scipy.stats.mstats import winsorize\n",
    "from sklearn.preprocessing import StandardScaler\n",
    "%matplotlib inline\n",
    "import warnings\n",
    "warnings.filterwarnings('ignore')"
   ]
  },
  {
   "cell_type": "code",
   "execution_count": null,
   "metadata": {
    "colab": {
     "base_uri": "https://localhost:8080/",
     "height": 73,
     "resources": {
      "http://localhost:8080/nbextensions/google.colab/files.js": {
       "data": "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",
       "headers": [
        [
         "content-type",
         "application/javascript"
        ]
       ],
       "ok": true,
       "status": 200,
       "status_text": ""
      }
     }
    },
    "executionInfo": {
     "elapsed": 106267,
     "status": "ok",
     "timestamp": 1604019673733,
     "user": {
      "displayName": "prashant yadav",
      "photoUrl": "https://lh3.googleusercontent.com/a-/AOh14Gj8K3KGg-ZADxoUNTNei78uOEioiM6n-ExckJjh_w=s64",
      "userId": "05926476527213396028"
     },
     "user_tz": -330
    },
    "id": "N8Wnb-B7BCo2",
    "outputId": "6130ae35-59f7-43cd-8f19-4b3fad4a61b9"
   },
   "outputs": [],
   "source": []
  },
  {
   "cell_type": "code",
   "execution_count": 2,
   "metadata": {
    "executionInfo": {
     "elapsed": 1362,
     "status": "ok",
     "timestamp": 1604019731029,
     "user": {
      "displayName": "prashant yadav",
      "photoUrl": "https://lh3.googleusercontent.com/a-/AOh14Gj8K3KGg-ZADxoUNTNei78uOEioiM6n-ExckJjh_w=s64",
      "userId": "05926476527213396028"
     },
     "user_tz": -330
    },
    "id": "PqOqcclnBhtQ"
   },
   "outputs": [],
   "source": [
    "test=pd.read_csv('test.csv')\n",
    "\n",
    "\n",
    "\n",
    "df=pd.read_csv('train.csv')"
   ]
  },
  {
   "cell_type": "code",
   "execution_count": 3,
   "metadata": {
    "colab": {
     "base_uri": "https://localhost:8080/",
     "height": 204
    },
    "executionInfo": {
     "elapsed": 1112,
     "status": "ok",
     "timestamp": 1604019753113,
     "user": {
      "displayName": "prashant yadav",
      "photoUrl": "https://lh3.googleusercontent.com/a-/AOh14Gj8K3KGg-ZADxoUNTNei78uOEioiM6n-ExckJjh_w=s64",
      "userId": "05926476527213396028"
     },
     "user_tz": -330
    },
    "id": "OxsLy_6BBh97",
    "outputId": "abab001c-2af8-43c6-ee39-e0e605ff68e9"
   },
   "outputs": [
    {
     "data": {
      "text/html": [
       "<div>\n",
       "<style scoped>\n",
       "    .dataframe tbody tr th:only-of-type {\n",
       "        vertical-align: middle;\n",
       "    }\n",
       "\n",
       "    .dataframe tbody tr th {\n",
       "        vertical-align: top;\n",
       "    }\n",
       "\n",
       "    .dataframe thead th {\n",
       "        text-align: right;\n",
       "    }\n",
       "</style>\n",
       "<table border=\"1\" class=\"dataframe\">\n",
       "  <thead>\n",
       "    <tr style=\"text-align: right;\">\n",
       "      <th></th>\n",
       "      <th>ID</th>\n",
       "      <th>Agency</th>\n",
       "      <th>Agency Type</th>\n",
       "      <th>Distribution Channel</th>\n",
       "      <th>Product Name</th>\n",
       "      <th>Duration</th>\n",
       "      <th>Destination</th>\n",
       "      <th>Net Sales</th>\n",
       "      <th>Commision (in value)</th>\n",
       "      <th>Age</th>\n",
       "      <th>Claim</th>\n",
       "    </tr>\n",
       "  </thead>\n",
       "  <tbody>\n",
       "    <tr>\n",
       "      <th>0</th>\n",
       "      <td>2010</td>\n",
       "      <td>EPX</td>\n",
       "      <td>Travel Agency</td>\n",
       "      <td>Online</td>\n",
       "      <td>Cancellation Plan</td>\n",
       "      <td>61</td>\n",
       "      <td>PHILIPPINES</td>\n",
       "      <td>12.0</td>\n",
       "      <td>0.00</td>\n",
       "      <td>41</td>\n",
       "      <td>0</td>\n",
       "    </tr>\n",
       "    <tr>\n",
       "      <th>1</th>\n",
       "      <td>4245</td>\n",
       "      <td>EPX</td>\n",
       "      <td>Travel Agency</td>\n",
       "      <td>Online</td>\n",
       "      <td>Cancellation Plan</td>\n",
       "      <td>4</td>\n",
       "      <td>MALAYSIA</td>\n",
       "      <td>17.0</td>\n",
       "      <td>0.00</td>\n",
       "      <td>35</td>\n",
       "      <td>0</td>\n",
       "    </tr>\n",
       "    <tr>\n",
       "      <th>2</th>\n",
       "      <td>9251</td>\n",
       "      <td>CWT</td>\n",
       "      <td>Travel Agency</td>\n",
       "      <td>Online</td>\n",
       "      <td>Rental Vehicle Excess Insurance</td>\n",
       "      <td>26</td>\n",
       "      <td>THAILAND</td>\n",
       "      <td>19.8</td>\n",
       "      <td>11.88</td>\n",
       "      <td>47</td>\n",
       "      <td>0</td>\n",
       "    </tr>\n",
       "    <tr>\n",
       "      <th>3</th>\n",
       "      <td>4754</td>\n",
       "      <td>EPX</td>\n",
       "      <td>Travel Agency</td>\n",
       "      <td>Online</td>\n",
       "      <td>2 way Comprehensive Plan</td>\n",
       "      <td>15</td>\n",
       "      <td>HONG KONG</td>\n",
       "      <td>27.0</td>\n",
       "      <td>0.00</td>\n",
       "      <td>48</td>\n",
       "      <td>0</td>\n",
       "    </tr>\n",
       "    <tr>\n",
       "      <th>4</th>\n",
       "      <td>8840</td>\n",
       "      <td>EPX</td>\n",
       "      <td>Travel Agency</td>\n",
       "      <td>Online</td>\n",
       "      <td>2 way Comprehensive Plan</td>\n",
       "      <td>15</td>\n",
       "      <td>MALAYSIA</td>\n",
       "      <td>37.0</td>\n",
       "      <td>0.00</td>\n",
       "      <td>36</td>\n",
       "      <td>0</td>\n",
       "    </tr>\n",
       "  </tbody>\n",
       "</table>\n",
       "</div>"
      ],
      "text/plain": [
       "     ID Agency    Agency Type Distribution Channel  \\\n",
       "0  2010    EPX  Travel Agency               Online   \n",
       "1  4245    EPX  Travel Agency               Online   \n",
       "2  9251    CWT  Travel Agency               Online   \n",
       "3  4754    EPX  Travel Agency               Online   \n",
       "4  8840    EPX  Travel Agency               Online   \n",
       "\n",
       "                      Product Name  Duration  Destination  Net Sales  \\\n",
       "0                Cancellation Plan        61  PHILIPPINES       12.0   \n",
       "1                Cancellation Plan         4     MALAYSIA       17.0   \n",
       "2  Rental Vehicle Excess Insurance        26     THAILAND       19.8   \n",
       "3         2 way Comprehensive Plan        15    HONG KONG       27.0   \n",
       "4         2 way Comprehensive Plan        15     MALAYSIA       37.0   \n",
       "\n",
       "   Commision (in value)  Age  Claim  \n",
       "0                  0.00   41      0  \n",
       "1                  0.00   35      0  \n",
       "2                 11.88   47      0  \n",
       "3                  0.00   48      0  \n",
       "4                  0.00   36      0  "
      ]
     },
     "execution_count": 3,
     "metadata": {},
     "output_type": "execute_result"
    }
   ],
   "source": [
    "df.head()"
   ]
  },
  {
   "cell_type": "code",
   "execution_count": 4,
   "metadata": {
    "executionInfo": {
     "elapsed": 1004,
     "status": "ok",
     "timestamp": 1604019777901,
     "user": {
      "displayName": "prashant yadav",
      "photoUrl": "https://lh3.googleusercontent.com/a-/AOh14Gj8K3KGg-ZADxoUNTNei78uOEioiM6n-ExckJjh_w=s64",
      "userId": "05926476527213396028"
     },
     "user_tz": -330
    },
    "id": "vsRjXVB_Byz3"
   },
   "outputs": [],
   "source": [
    "df_train = df.drop(['ID'],axis=1)"
   ]
  },
  {
   "cell_type": "code",
   "execution_count": 5,
   "metadata": {
    "colab": {
     "base_uri": "https://localhost:8080/"
    },
    "executionInfo": {
     "elapsed": 1135,
     "status": "ok",
     "timestamp": 1604019798704,
     "user": {
      "displayName": "prashant yadav",
      "photoUrl": "https://lh3.googleusercontent.com/a-/AOh14Gj8K3KGg-ZADxoUNTNei78uOEioiM6n-ExckJjh_w=s64",
      "userId": "05926476527213396028"
     },
     "user_tz": -330
    },
    "id": "TVqlV3UmBzNt",
    "outputId": "96cf4f42-3a79-4507-cf9b-a84107c2c695"
   },
   "outputs": [
    {
     "name": "stdout",
     "output_type": "stream",
     "text": [
      "<class 'pandas.core.frame.DataFrame'>\n",
      "RangeIndex: 52310 entries, 0 to 52309\n",
      "Data columns (total 10 columns):\n",
      " #   Column                Non-Null Count  Dtype  \n",
      "---  ------                --------------  -----  \n",
      " 0   Agency                52310 non-null  object \n",
      " 1   Agency Type           52310 non-null  object \n",
      " 2   Distribution Channel  52310 non-null  object \n",
      " 3   Product Name          52310 non-null  object \n",
      " 4   Duration              52310 non-null  int64  \n",
      " 5   Destination           52310 non-null  object \n",
      " 6   Net Sales             52310 non-null  float64\n",
      " 7   Commision (in value)  52310 non-null  float64\n",
      " 8   Age                   52310 non-null  int64  \n",
      " 9   Claim                 52310 non-null  int64  \n",
      "dtypes: float64(2), int64(3), object(5)\n",
      "memory usage: 4.0+ MB\n"
     ]
    }
   ],
   "source": [
    "df_train.info()"
   ]
  },
  {
   "cell_type": "code",
   "execution_count": 6,
   "metadata": {
    "colab": {
     "base_uri": "https://localhost:8080/",
     "height": 297
    },
    "executionInfo": {
     "elapsed": 990,
     "status": "ok",
     "timestamp": 1604019825529,
     "user": {
      "displayName": "prashant yadav",
      "photoUrl": "https://lh3.googleusercontent.com/a-/AOh14Gj8K3KGg-ZADxoUNTNei78uOEioiM6n-ExckJjh_w=s64",
      "userId": "05926476527213396028"
     },
     "user_tz": -330
    },
    "id": "Y07Xt1TjBydF",
    "outputId": "e61ddaee-0bd6-4493-d9fc-f223937e40de"
   },
   "outputs": [
    {
     "data": {
      "text/html": [
       "<div>\n",
       "<style scoped>\n",
       "    .dataframe tbody tr th:only-of-type {\n",
       "        vertical-align: middle;\n",
       "    }\n",
       "\n",
       "    .dataframe tbody tr th {\n",
       "        vertical-align: top;\n",
       "    }\n",
       "\n",
       "    .dataframe thead th {\n",
       "        text-align: right;\n",
       "    }\n",
       "</style>\n",
       "<table border=\"1\" class=\"dataframe\">\n",
       "  <thead>\n",
       "    <tr style=\"text-align: right;\">\n",
       "      <th></th>\n",
       "      <th>Duration</th>\n",
       "      <th>Net Sales</th>\n",
       "      <th>Commision (in value)</th>\n",
       "      <th>Age</th>\n",
       "      <th>Claim</th>\n",
       "    </tr>\n",
       "  </thead>\n",
       "  <tbody>\n",
       "    <tr>\n",
       "      <th>count</th>\n",
       "      <td>52310.000000</td>\n",
       "      <td>52310.000000</td>\n",
       "      <td>52310.000000</td>\n",
       "      <td>52310.000000</td>\n",
       "      <td>52310.000000</td>\n",
       "    </tr>\n",
       "    <tr>\n",
       "      <th>mean</th>\n",
       "      <td>58.256108</td>\n",
       "      <td>48.554673</td>\n",
       "      <td>12.219963</td>\n",
       "      <td>39.555725</td>\n",
       "      <td>0.166699</td>\n",
       "    </tr>\n",
       "    <tr>\n",
       "      <th>std</th>\n",
       "      <td>109.138708</td>\n",
       "      <td>60.198589</td>\n",
       "      <td>22.847645</td>\n",
       "      <td>13.762473</td>\n",
       "      <td>0.372710</td>\n",
       "    </tr>\n",
       "    <tr>\n",
       "      <th>min</th>\n",
       "      <td>-2.000000</td>\n",
       "      <td>-389.000000</td>\n",
       "      <td>0.000000</td>\n",
       "      <td>0.000000</td>\n",
       "      <td>0.000000</td>\n",
       "    </tr>\n",
       "    <tr>\n",
       "      <th>25%</th>\n",
       "      <td>10.000000</td>\n",
       "      <td>19.800000</td>\n",
       "      <td>0.000000</td>\n",
       "      <td>33.000000</td>\n",
       "      <td>0.000000</td>\n",
       "    </tr>\n",
       "    <tr>\n",
       "      <th>50%</th>\n",
       "      <td>24.000000</td>\n",
       "      <td>29.500000</td>\n",
       "      <td>0.000000</td>\n",
       "      <td>36.000000</td>\n",
       "      <td>0.000000</td>\n",
       "    </tr>\n",
       "    <tr>\n",
       "      <th>75%</th>\n",
       "      <td>57.000000</td>\n",
       "      <td>55.000000</td>\n",
       "      <td>13.380000</td>\n",
       "      <td>43.000000</td>\n",
       "      <td>0.000000</td>\n",
       "    </tr>\n",
       "    <tr>\n",
       "      <th>max</th>\n",
       "      <td>4881.000000</td>\n",
       "      <td>682.000000</td>\n",
       "      <td>262.760000</td>\n",
       "      <td>118.000000</td>\n",
       "      <td>1.000000</td>\n",
       "    </tr>\n",
       "  </tbody>\n",
       "</table>\n",
       "</div>"
      ],
      "text/plain": [
       "           Duration     Net Sales  Commision (in value)           Age  \\\n",
       "count  52310.000000  52310.000000          52310.000000  52310.000000   \n",
       "mean      58.256108     48.554673             12.219963     39.555725   \n",
       "std      109.138708     60.198589             22.847645     13.762473   \n",
       "min       -2.000000   -389.000000              0.000000      0.000000   \n",
       "25%       10.000000     19.800000              0.000000     33.000000   \n",
       "50%       24.000000     29.500000              0.000000     36.000000   \n",
       "75%       57.000000     55.000000             13.380000     43.000000   \n",
       "max     4881.000000    682.000000            262.760000    118.000000   \n",
       "\n",
       "              Claim  \n",
       "count  52310.000000  \n",
       "mean       0.166699  \n",
       "std        0.372710  \n",
       "min        0.000000  \n",
       "25%        0.000000  \n",
       "50%        0.000000  \n",
       "75%        0.000000  \n",
       "max        1.000000  "
      ]
     },
     "execution_count": 6,
     "metadata": {},
     "output_type": "execute_result"
    }
   ],
   "source": [
    "df_train.describe()"
   ]
  },
  {
   "cell_type": "code",
   "execution_count": 7,
   "metadata": {
    "colab": {
     "base_uri": "https://localhost:8080/"
    },
    "executionInfo": {
     "elapsed": 1145,
     "status": "ok",
     "timestamp": 1604019889568,
     "user": {
      "displayName": "prashant yadav",
      "photoUrl": "https://lh3.googleusercontent.com/a-/AOh14Gj8K3KGg-ZADxoUNTNei78uOEioiM6n-ExckJjh_w=s64",
      "userId": "05926476527213396028"
     },
     "user_tz": -330
    },
    "id": "rJf_IjSZCQ5O",
    "outputId": "cac70fa6-a944-4a4a-cf30-64de3756ea4f"
   },
   "outputs": [
    {
     "data": {
      "text/plain": [
       "0    43590\n",
       "1     8720\n",
       "Name: Claim, dtype: int64"
      ]
     },
     "execution_count": 7,
     "metadata": {},
     "output_type": "execute_result"
    }
   ],
   "source": [
    "target=df_train.Claim.value_counts()\n",
    "target"
   ]
  },
  {
   "cell_type": "code",
   "execution_count": 8,
   "metadata": {
    "colab": {
     "base_uri": "https://localhost:8080/",
     "height": 276
    },
    "executionInfo": {
     "elapsed": 2020,
     "status": "ok",
     "timestamp": 1604019917655,
     "user": {
      "displayName": "prashant yadav",
      "photoUrl": "https://lh3.googleusercontent.com/a-/AOh14Gj8K3KGg-ZADxoUNTNei78uOEioiM6n-ExckJjh_w=s64",
      "userId": "05926476527213396028"
     },
     "user_tz": -330
    },
    "id": "q6-mbqN5CT92",
    "outputId": "ec29a87f-d33e-4aa3-831b-70fad4a7e634"
   },
   "outputs": [
    {
     "data": {
      "image/png": "[encoded data removed]",
      "text/plain": [
       "<Figure size 432x288 with 1 Axes>"
      ]
     },
     "metadata": {
      "needs_background": "light"
     },
     "output_type": "display_data"
    }
   ],
   "source": [
    "target.plot(kind=\"bar\")\n",
    "plt.xlabel('Target')\n",
    "plt.ylabel('Count')\n",
    "plt.show()"
   ]
  },
  {
   "cell_type": "code",
   "execution_count": 37,
   "metadata": {},
   "outputs": [
    {
     "data": {
      "text/plain": [
       "Travel Agency    34996\n",
       "Airlines         17314\n",
       "Name: Agency Type, dtype: int64"
      ]
     },
     "execution_count": 37,
     "metadata": {},
     "output_type": "execute_result"
    }
   ],
   "source": [
    "Agencytype=df_train['Agency Type'].value_counts()\n",
    "Agencytype"
   ]
  },
  {
   "cell_type": "code",
   "execution_count": 38,
   "metadata": {},
   "outputs": [
    {
     "data": {
      "image/png": "[encoded data removed]",
      "text/plain": [
       "<Figure size 576x432 with 1 Axes>"
      ]
     },
     "metadata": {},
     "output_type": "display_data"
    }
   ],
   "source": [
    "plt.figure(figsize=(8, 6))\n",
    "splot=sns.barplot(x=Agencytype.index,y=Agencytype.values)\n",
    "for p in splot.patches:\n",
    "    splot.annotate(format(p.get_height(), '.1f'), \n",
    "                   (p.get_x() + p.get_width() / 2., p.get_height()), \n",
    "                   ha = 'center', va = 'center', \n",
    "                   xytext = (0, 9), \n",
    "                   textcoords = 'offset points')\n",
    "    \n",
    "plt.show()"
   ]
  },
  {
   "cell_type": "code",
   "execution_count": 39,
   "metadata": {},
   "outputs": [
    {
     "data": {
      "text/html": [
       "<div>\n",
       "<style scoped>\n",
       "    .dataframe tbody tr th:only-of-type {\n",
       "        vertical-align: middle;\n",
       "    }\n",
       "\n",
       "    .dataframe tbody tr th {\n",
       "        vertical-align: top;\n",
       "    }\n",
       "\n",
       "    .dataframe thead th {\n",
       "        text-align: right;\n",
       "    }\n",
       "</style>\n",
       "<table border=\"1\" class=\"dataframe\">\n",
       "  <thead>\n",
       "    <tr style=\"text-align: right;\">\n",
       "      <th>Claim</th>\n",
       "      <th>0</th>\n",
       "      <th>1</th>\n",
       "    </tr>\n",
       "    <tr>\n",
       "      <th>Agency Type</th>\n",
       "      <th></th>\n",
       "      <th></th>\n",
       "    </tr>\n",
       "  </thead>\n",
       "  <tbody>\n",
       "    <tr>\n",
       "      <th>Airlines</th>\n",
       "      <td>11792</td>\n",
       "      <td>5522</td>\n",
       "    </tr>\n",
       "    <tr>\n",
       "      <th>Travel Agency</th>\n",
       "      <td>31798</td>\n",
       "      <td>3198</td>\n",
       "    </tr>\n",
       "  </tbody>\n",
       "</table>\n",
       "</div>"
      ],
      "text/plain": [
       "Claim              0     1\n",
       "Agency Type               \n",
       "Airlines       11792  5522\n",
       "Travel Agency  31798  3198"
      ]
     },
     "execution_count": 39,
     "metadata": {},
     "output_type": "execute_result"
    }
   ],
   "source": [
    "agencyclaimed=df_train.groupby(['Agency Type','Claim']).size().unstack(fill_value=0)\n",
    "agencyclaimed"
   ]
  },
  {
   "cell_type": "code",
   "execution_count": 41,
   "metadata": {},
   "outputs": [
    {
     "data": {
      "image/png": "[encoded data removed]",
      "text/plain": [
       "<Figure size 432x288 with 1 Axes>"
      ]
     },
     "metadata": {},
     "output_type": "display_data"
    }
   ],
   "source": [
    "agencyclaimed=df_train.groupby(['Agency Type','Claim']).size().unstack(fill_value=0)\n",
    "ax = agencyclaimed.plot(kind='bar') \n",
    "for p in ax.patches:\n",
    "    ax.annotate(np.round(p.get_height(),decimals=2),\n",
    "                (p.get_x()+p.get_width()/2., p.get_height()),\n",
    "                ha='center',\n",
    "                va='center',\n",
    "                xytext=(0, 10),\n",
    "                textcoords='offset points')\n",
    "plt.xticks(rotation=None)\n",
    "plt.show()"
   ]
  },
  {
   "cell_type": "code",
   "execution_count": 9,
   "metadata": {
    "colab": {
     "base_uri": "https://localhost:8080/"
    },
    "executionInfo": {
     "elapsed": 1027,
     "status": "ok",
     "timestamp": 1604019941712,
     "user": {
      "displayName": "prashant yadav",
      "photoUrl": "https://lh3.googleusercontent.com/a-/AOh14Gj8K3KGg-ZADxoUNTNei78uOEioiM6n-ExckJjh_w=s64",
      "userId": "05926476527213396028"
     },
     "user_tz": -330
    },
    "id": "LDhBj0WACVFC",
    "outputId": "2101743b-b2ee-4690-ae74-bcea3de3b1dc"
   },
   "outputs": [
    {
     "data": {
      "text/plain": [
       "Agency                  0\n",
       "Agency Type             0\n",
       "Distribution Channel    0\n",
       "Product Name            0\n",
       "Duration                0\n",
       "Destination             0\n",
       "Net Sales               0\n",
       "Commision (in value)    0\n",
       "Age                     0\n",
       "Claim                   0\n",
       "dtype: int64"
      ]
     },
     "execution_count": 9,
     "metadata": {},
     "output_type": "execute_result"
    }
   ],
   "source": [
    "df_train.isnull().sum()"
   ]
  },
  {
   "cell_type": "code",
   "execution_count": 10,
   "metadata": {
    "colab": {
     "base_uri": "https://localhost:8080/"
    },
    "executionInfo": {
     "elapsed": 1053,
     "status": "ok",
     "timestamp": 1604019967427,
     "user": {
      "displayName": "prashant yadav",
      "photoUrl": "https://lh3.googleusercontent.com/a-/AOh14Gj8K3KGg-ZADxoUNTNei78uOEioiM6n-ExckJjh_w=s64",
      "userId": "05926476527213396028"
     },
     "user_tz": -330
    },
    "id": "kH3246H4CTnR",
    "outputId": "82c69880-5268-48c7-9ed0-6992ffd20c05"
   },
   "outputs": [
    {
     "data": {
      "text/plain": [
       "['Agency',\n",
       " 'Agency Type',\n",
       " 'Distribution Channel',\n",
       " 'Product Name',\n",
       " 'Destination']"
      ]
     },
     "execution_count": 10,
     "metadata": {},
     "output_type": "execute_result"
    }
   ],
   "source": [
    "cat_cols = df_train.select_dtypes(include='object').columns.tolist()\n",
    "cat_cols"
   ]
  },
  {
   "cell_type": "code",
   "execution_count": 11,
   "metadata": {
    "executionInfo": {
     "elapsed": 1177,
     "status": "ok",
     "timestamp": 1604019998270,
     "user": {
      "displayName": "prashant yadav",
      "photoUrl": "https://lh3.googleusercontent.com/a-/AOh14Gj8K3KGg-ZADxoUNTNei78uOEioiM6n-ExckJjh_w=s64",
      "userId": "05926476527213396028"
     },
     "user_tz": -330
    },
    "id": "NvskeWAKCrDl"
   },
   "outputs": [],
   "source": [
    "numcols= df_train.select_dtypes(include=['number']).columns.tolist()\n",
    "numcols.remove(\"Claim\")"
   ]
  },
  {
   "cell_type": "code",
   "execution_count": 42,
   "metadata": {},
   "outputs": [
    {
     "data": {
      "image/png": "[encoded data removed]",
      "text/plain": [
       "<Figure size 432x288 with 1 Axes>"
      ]
     },
     "metadata": {},
     "output_type": "display_data"
    }
   ],
   "source": [
    "age1=df_train[df_train['Age']<=80]\n",
    "axx=age1['Age'].plot(kind='hist',bins=8)\n",
    "for p in axx.patches:\n",
    "    axx.annotate(np.round(p.get_height(),decimals=2),\n",
    "                (p.get_x()+p.get_width()/2., p.get_height()),\n",
    "                ha='center',\n",
    "                va='center',\n",
    "                xytext=(0, 10),\n",
    "                textcoords='offset points')"
   ]
  },
  {
   "cell_type": "code",
   "execution_count": 13,
   "metadata": {
    "colab": {
     "base_uri": "https://localhost:8080/",
     "height": 1000
    },
    "executionInfo": {
     "elapsed": 2304,
     "status": "ok",
     "timestamp": 1604020048427,
     "user": {
      "displayName": "prashant yadav",
      "photoUrl": "https://lh3.googleusercontent.com/a-/AOh14Gj8K3KGg-ZADxoUNTNei78uOEioiM6n-ExckJjh_w=s64",
      "userId": "05926476527213396028"
     },
     "user_tz": -330
    },
    "id": "UJeJDrtxCqqU",
    "outputId": "8cf8cda9-c28a-42c5-a458-edf913c9e8f2"
   },
   "outputs": [
    {
     "data": {
      "image/png": "[encoded data removed]",
      "text/plain": [
       "<Figure size 576x288 with 1 Axes>"
      ]
     },
     "metadata": {},
     "output_type": "display_data"
    },
    {
     "data": {
      "image/png": "[encoded data removed]",
      "text/plain": [
       "<Figure size 576x288 with 1 Axes>"
      ]
     },
     "metadata": {},
     "output_type": "display_data"
    },
    {
     "data": {
      "image/png": "[encoded data removed]",
      "text/plain": [
       "<Figure size 576x288 with 1 Axes>"
      ]
     },
     "metadata": {},
     "output_type": "display_data"
    },
    {
     "data": {
      "image/png": "[encoded data removed]",
      "text/plain": [
       "<Figure size 576x288 with 1 Axes>"
      ]
     },
     "metadata": {},
     "output_type": "display_data"
    }
   ],
   "source": [
    "for i in numcols:\n",
    "    plt.figure(figsize=(8,4))\n",
    "    sns.set_style('whitegrid')\n",
    "    sns.distplot(df_train[i],kde=False,color='darkred')\n",
    "    plt.show()"
   ]
  },
  {
   "cell_type": "code",
   "execution_count": 14,
   "metadata": {
    "colab": {
     "base_uri": "https://localhost:8080/"
    },
    "executionInfo": {
     "elapsed": 1273,
     "status": "ok",
     "timestamp": 1604020074189,
     "user": {
      "displayName": "prashant yadav",
      "photoUrl": "https://lh3.googleusercontent.com/a-/AOh14Gj8K3KGg-ZADxoUNTNei78uOEioiM6n-ExckJjh_w=s64",
      "userId": "05926476527213396028"
     },
     "user_tz": -330
    },
    "id": "L0krJZD5Cznf",
    "outputId": "077c8d3d-e107-4269-c6b8-1fcb8ec925d4"
   },
   "outputs": [
    {
     "name": "stdout",
     "output_type": "stream",
     "text": [
      "                Feature Number of Outliers\n",
      "0              Duration               5484\n",
      "1             Net Sales               5335\n",
      "2  Commision (in value)               6394\n",
      "3                   Age               3675\n"
     ]
    }
   ],
   "source": [
    "outliers = pd.DataFrame(columns=['Feature','Number of Outliers'])\n",
    "for column in numcols:\n",
    "    # first quartile (Q1)\n",
    "    q1 = df_train[column].quantile(0.25)            \n",
    "    # third quartile (Q3)\n",
    "    q3 = df_train[column].quantile(0.75)\n",
    "    # IQR\n",
    "    iqr = q3 - q1\n",
    "    range_min = q1 - (1.5*iqr)\n",
    "    range_max = q3 + (1.5*iqr)\n",
    "    outliers = outliers.append({'Feature':column,'Number of Outliers':df_train.loc[(df_train[column] < range_min) | (df_train[column] > range_max)].shape[0]},ignore_index=True)\n",
    "print(outliers)"
   ]
  },
  {
   "cell_type": "code",
   "execution_count": 16,
   "metadata": {
    "executionInfo": {
     "elapsed": 1247,
     "status": "ok",
     "timestamp": 1604020164460,
     "user": {
      "displayName": "prashant yadav",
      "photoUrl": "https://lh3.googleusercontent.com/a-/AOh14Gj8K3KGg-ZADxoUNTNei78uOEioiM6n-ExckJjh_w=s64",
      "userId": "05926476527213396028"
     },
     "user_tz": -330
    },
    "id": "PBs7YURYCzUZ"
   },
   "outputs": [],
   "source": [
    "df_top20 = df_train['Destination'].value_counts().head(20)"
   ]
  },
  {
   "cell_type": "code",
   "execution_count": 17,
   "metadata": {
    "colab": {
     "base_uri": "https://localhost:8080/",
     "height": 417
    },
    "executionInfo": {
     "elapsed": 1657,
     "status": "ok",
     "timestamp": 1604020178695,
     "user": {
      "displayName": "prashant yadav",
      "photoUrl": "https://lh3.googleusercontent.com/a-/AOh14Gj8K3KGg-ZADxoUNTNei78uOEioiM6n-ExckJjh_w=s64",
      "userId": "05926476527213396028"
     },
     "user_tz": -330
    },
    "id": "-GKGP7CaDPH8",
    "outputId": "96b7ca31-2501-4875-e1fe-1f6834a4fc2d"
   },
   "outputs": [
    {
     "data": {
      "image/png": "[encoded data removed]",
      "text/plain": [
       "<Figure size 432x288 with 1 Axes>"
      ]
     },
     "metadata": {},
     "output_type": "display_data"
    }
   ],
   "source": [
    "df_top20.plot(kind=\"bar\")\n",
    "plt.xlabel('Destination')\n",
    "plt.ylabel('Count')\n",
    "plt.show()"
   ]
  },
  {
   "cell_type": "code",
   "execution_count": null,
   "metadata": {
    "colab": {
     "base_uri": "https://localhost:8080/",
     "height": 726
    },
    "executionInfo": {
     "elapsed": 44323,
     "status": "ok",
     "timestamp": 1604020279641,
     "user": {
      "displayName": "prashant yadav",
      "photoUrl": "https://lh3.googleusercontent.com/a-/AOh14Gj8K3KGg-ZADxoUNTNei78uOEioiM6n-ExckJjh_w=s64",
      "userId": "05926476527213396028"
     },
     "user_tz": -330
    },
    "id": "CoyMqZFUDO0Y",
    "outputId": "b58e13de-6a3c-4212-9756-311a21fb3c4c"
   },
   "outputs": [],
   "source": [
    "sns.pairplot(df_train,hue='Claim')\n",
    "plt.show()"
   ]
  },
  {
   "cell_type": "code",
   "execution_count": null,
   "metadata": {
    "colab": {
     "base_uri": "https://localhost:8080/",
     "height": 576
    },
    "executionInfo": {
     "elapsed": 1166,
     "status": "ok",
     "timestamp": 1604020343565,
     "user": {
      "displayName": "prashant yadav",
      "photoUrl": "https://lh3.googleusercontent.com/a-/AOh14Gj8K3KGg-ZADxoUNTNei78uOEioiM6n-ExckJjh_w=s64",
      "userId": "05926476527213396028"
     },
     "user_tz": -330
    },
    "id": "s3_NnurdDo9X",
    "outputId": "48345b58-2dfe-48ca-f11c-9e22e7a35d67"
   },
   "outputs": [],
   "source": [
    "observed = pd.crosstab(df_train['Agency'],df_train['Agency Type'])\n",
    "observed"
   ]
  },
  {
   "cell_type": "code",
   "execution_count": null,
   "metadata": {
    "colab": {
     "base_uri": "https://localhost:8080/"
    },
    "executionInfo": {
     "elapsed": 1038,
     "status": "ok",
     "timestamp": 1604020369578,
     "user": {
      "displayName": "prashant yadav",
      "photoUrl": "https://lh3.googleusercontent.com/a-/AOh14Gj8K3KGg-ZADxoUNTNei78uOEioiM6n-ExckJjh_w=s64",
      "userId": "05926476527213396028"
     },
     "user_tz": -330
    },
    "id": "PQWTgbyfDpUD",
    "outputId": "ac6f2774-25d7-42e8-f14a-558343d07805"
   },
   "outputs": [],
   "source": [
    "chi2, p, dof, ex = chi2_contingency(observed)\n",
    "p"
   ]
  },
  {
   "cell_type": "code",
   "execution_count": null,
   "metadata": {
    "colab": {
     "base_uri": "https://localhost:8080/",
     "height": 365
    },
    "executionInfo": {
     "elapsed": 1568,
     "status": "ok",
     "timestamp": 1604020384166,
     "user": {
      "displayName": "prashant yadav",
      "photoUrl": "https://lh3.googleusercontent.com/a-/AOh14Gj8K3KGg-ZADxoUNTNei78uOEioiM6n-ExckJjh_w=s64",
      "userId": "05926476527213396028"
     },
     "user_tz": -330
    },
    "id": "oe1ijBFkDonC",
    "outputId": "f912e279-9bca-4d13-e803-5f5fb2733a5e"
   },
   "outputs": [],
   "source": [
    "plt.figure(figsize=(7,4)) \n",
    "sns.heatmap(df_train.corr(),annot=True,cmap='cubehelix_r')\n",
    "plt.show()"
   ]
  },
  {
   "cell_type": "code",
   "execution_count": null,
   "metadata": {
    "executionInfo": {
     "elapsed": 1050,
     "status": "ok",
     "timestamp": 1604020424954,
     "user": {
      "displayName": "prashant yadav",
      "photoUrl": "https://lh3.googleusercontent.com/a-/AOh14Gj8K3KGg-ZADxoUNTNei78uOEioiM6n-ExckJjh_w=s64",
      "userId": "05926476527213396028"
     },
     "user_tz": -330
    },
    "id": "Gzjdj9hFETJb"
   },
   "outputs": [],
   "source": [
    "ID = test[['ID']]\n",
    "df_test = test.drop(['ID'],axis=1)\n",
    "y = df_train[['Claim']]\n",
    "X = df_train.drop(['Claim'],axis=1)"
   ]
  },
  {
   "cell_type": "code",
   "execution_count": null,
   "metadata": {
    "executionInfo": {
     "elapsed": 1337,
     "status": "ok",
     "timestamp": 1604020442538,
     "user": {
      "displayName": "prashant yadav",
      "photoUrl": "https://lh3.googleusercontent.com/a-/AOh14Gj8K3KGg-ZADxoUNTNei78uOEioiM6n-ExckJjh_w=s64",
      "userId": "05926476527213396028"
     },
     "user_tz": -330
    },
    "id": "6Zf6QnbgETkQ"
   },
   "outputs": [],
   "source": [
    "for col in cat_cols:\n",
    "    encoder  =  ce.BinaryEncoder(cols=[col])\n",
    "    X =  encoder.fit_transform(X)\n",
    "    df_test =  encoder.transform(df_test)"
   ]
  },
  {
   "cell_type": "code",
   "execution_count": null,
   "metadata": {
    "executionInfo": {
     "elapsed": 1037,
     "status": "ok",
     "timestamp": 1604020468684,
     "user": {
      "displayName": "prashant yadav",
      "photoUrl": "https://lh3.googleusercontent.com/a-/AOh14Gj8K3KGg-ZADxoUNTNei78uOEioiM6n-ExckJjh_w=s64",
      "userId": "05926476527213396028"
     },
     "user_tz": -330
    },
    "id": "vL64vqnmES1w"
   },
   "outputs": [],
   "source": [
    "X_train, X_val, y_train, y_val = train_test_split(X, y, test_size = 0.15, random_state=2)"
   ]
  },
  {
   "cell_type": "code",
   "execution_count": null,
   "metadata": {
    "colab": {
     "base_uri": "https://localhost:8080/"
    },
    "executionInfo": {
     "elapsed": 2131,
     "status": "ok",
     "timestamp": 1604020491316,
     "user": {
      "displayName": "prashant yadav",
      "photoUrl": "https://lh3.googleusercontent.com/a-/AOh14Gj8K3KGg-ZADxoUNTNei78uOEioiM6n-ExckJjh_w=s64",
      "userId": "05926476527213396028"
     },
     "user_tz": -330
    },
    "id": "2wrRQOS9EjzC",
    "outputId": "bc005327-929c-420c-8c76-a58fb521c4d5"
   },
   "outputs": [],
   "source": [
    "lr = LogisticRegression(random_state=2)\n",
    "lr.fit(X_train,y_train)\n",
    "y_pred = lr.predict(X_val)\n",
    "print(classification_report(y_val,y_pred))"
   ]
  },
  {
   "cell_type": "code",
   "execution_count": null,
   "metadata": {
    "colab": {
     "base_uri": "https://localhost:8080/"
    },
    "executionInfo": {
     "elapsed": 5926,
     "status": "ok",
     "timestamp": 1604020533637,
     "user": {
      "displayName": "prashant yadav",
      "photoUrl": "https://lh3.googleusercontent.com/a-/AOh14Gj8K3KGg-ZADxoUNTNei78uOEioiM6n-ExckJjh_w=s64",
      "userId": "05926476527213396028"
     },
     "user_tz": -330
    },
    "id": "4gje4HFqEjiX",
    "outputId": "d0225d79-98d9-40da-e3f1-5635cd95eed2"
   },
   "outputs": [],
   "source": [
    "rf = RandomForestClassifier(random_state=2)\n",
    "rf.fit(X_train,y_train)\n",
    "y_pred = rf.predict(X_val)\n",
    "print(classification_report(y_val,y_pred))"
   ]
  },
  {
   "cell_type": "code",
   "execution_count": null,
   "metadata": {
    "colab": {
     "base_uri": "https://localhost:8080/"
    },
    "executionInfo": {
     "elapsed": 4950,
     "status": "ok",
     "timestamp": 1604020566923,
     "user": {
      "displayName": "prashant yadav",
      "photoUrl": "https://lh3.googleusercontent.com/a-/AOh14Gj8K3KGg-ZADxoUNTNei78uOEioiM6n-ExckJjh_w=s64",
      "userId": "05926476527213396028"
     },
     "user_tz": -330
    },
    "id": "PJw8eB84E1M2",
    "outputId": "1f5059b3-d3e4-4f5d-8b8b-e4285933c6b0"
   },
   "outputs": [],
   "source": [
    "xgb_model = XGBClassifier(random_state=2)\n",
    "xgb_model.fit(X_train,y_train)\n",
    "y_pred = xgb_model.predict(X_val)\n",
    "print(classification_report(y_val,y_pred))"
   ]
  },
  {
   "cell_type": "code",
   "execution_count": null,
   "metadata": {
    "executionInfo": {
     "elapsed": 1347,
     "status": "ok",
     "timestamp": 1604020592887,
     "user": {
      "displayName": "prashant yadav",
      "photoUrl": "https://lh3.googleusercontent.com/a-/AOh14Gj8K3KGg-ZADxoUNTNei78uOEioiM6n-ExckJjh_w=s64",
      "userId": "05926476527213396028"
     },
     "user_tz": -330
    },
    "id": "s6d25Uo2E8Pm"
   },
   "outputs": [],
   "source": [
    "parameter_grid = {\"n_estimators\": [200,350,500],\n",
    "              \"max_depth\": [20,35,50],\n",
    "              \"max_features\": [2,5,10],\n",
    "              \"min_samples_split\": [3,5,10]\n",
    "                }\n",
    "rf = RandomForestClassifier(random_state=2)\n",
    "grid_search = GridSearchCV(estimator=rf,param_grid=parameter_grid,n_jobs = -1,cv=5)\n",
    "grid_search.fit(X_train,y_train)\n",
    "grid_search.best_params_ "
   ]
  },
  {
   "cell_type": "code",
   "execution_count": 30,
   "metadata": {
    "colab": {
     "base_uri": "https://localhost:8080/",
     "height": 359
    },
    "executionInfo": {
     "elapsed": 3830890,
     "status": "error",
     "timestamp": 1604024454391,
     "user": {
      "displayName": "prashant yadav",
      "photoUrl": "https://lh3.googleusercontent.com/a-/AOh14Gj8K3KGg-ZADxoUNTNei78uOEioiM6n-ExckJjh_w=s64",
      "userId": "05926476527213396028"
     },
     "user_tz": -330
    },
    "id": "Bh68ZzVrE8nR",
    "outputId": "104b3df1-173c-40f7-d74c-674849395b97"
   },
   "outputs": [
    {
     "data": {
      "text/plain": [
       "0.8699918233851186"
      ]
     },
     "execution_count": 30,
     "metadata": {},
     "output_type": "execute_result"
    }
   ],
   "source": [
    "rf = RandomForestClassifier(random_state=2,n_estimators=350,max_depth=35,max_features=10,min_samples_split=5)\n",
    "rf.fit(X_train,y_train)\n",
    "y_pred = rf.predict(X_val)\n",
    "precision_score(y_val,y_pred)"
   ]
  },
  {
   "cell_type": "code",
   "execution_count": 31,
   "metadata": {
    "id": "5AuyRGIyE7nb"
   },
   "outputs": [
    {
     "name": "stdout",
     "output_type": "stream",
     "text": [
      "              precision    recall  f1-score   support\n",
      "\n",
      "           0       0.96      0.98      0.97      6503\n",
      "           1       0.87      0.79      0.83      1344\n",
      "\n",
      "    accuracy                           0.94      7847\n",
      "   macro avg       0.91      0.88      0.90      7847\n",
      "weighted avg       0.94      0.94      0.94      7847\n",
      "\n"
     ]
    }
   ],
   "source": [
    "print(classification_report(y_val,y_pred))"
   ]
  },
  {
   "cell_type": "code",
   "execution_count": 32,
   "metadata": {
    "id": "Ijs-nQYhE1mm"
   },
   "outputs": [
    {
     "name": "stdout",
     "output_type": "stream",
     "text": [
      "[[6344  159]\n",
      " [ 280 1064]]\n"
     ]
    }
   ],
   "source": [
    "print(confusion_matrix(y_val,y_pred))"
   ]
  },
  {
   "cell_type": "code",
   "execution_count": 33,
   "metadata": {
    "id": "8vQvxr4cE0yg"
   },
   "outputs": [
    {
     "data": {
      "text/plain": [
       "0.8793103448275862"
      ]
     },
     "execution_count": 33,
     "metadata": {},
     "output_type": "execute_result"
    }
   ],
   "source": [
    "xgb_model = XGBClassifier(random_state=2,\n",
    " learning_rate =0.01,\n",
    " n_estimators=1800,\n",
    " max_depth=35,\n",
    " min_child_weight=4,\n",
    " gamma=0,\n",
    " subsample=0.8,\n",
    " colsample_bytree=0.8,\n",
    " reg_alpha=0.005,\n",
    " objective= 'binary:logistic',\n",
    " nthread=4,\n",
    " scale_pos_weight=1)\n",
    "xgb_model.fit(X_train,y_train)\n",
    "y_pred = xgb_model.predict(X_val)\n",
    "precision_score(y_val,y_pred)"
   ]
  },
  {
   "cell_type": "code",
   "execution_count": 34,
   "metadata": {},
   "outputs": [
    {
     "name": "stdout",
     "output_type": "stream",
     "text": [
      "[[6349  154]\n",
      " [ 222 1122]]\n"
     ]
    }
   ],
   "source": [
    "print(confusion_matrix(y_val,y_pred))"
   ]
  },
  {
   "cell_type": "code",
   "execution_count": 35,
   "metadata": {},
   "outputs": [],
   "source": [
    "Claim = pd.DataFrame(xgb_model.predict(df_test),columns=['Claim'])\n",
    "submission = pd.concat([ID,Claim],1)"
   ]
  },
  {
   "cell_type": "code",
   "execution_count": 36,
   "metadata": {},
   "outputs": [],
   "source": [
    "submission.to_csv('6_submission.csv',index=False)"
   ]
  },
  {
   "cell_type": "code",
   "execution_count": null,
   "metadata": {},
   "outputs": [],
   "source": []
  }
 ],
 "metadata": {
  "colab": {
   "authorship_tag": "ABX9TyPbA9bXaoueiOcGiQa/8OZY",
   "collapsed_sections": [],
   "name": "DONTCARE.ipynb",
   "provenance": []
  },
  "kernelspec": {
   "display_name": "Python 3",
   "language": "python",
   "name": "python3"
  },
  "language_info": {
   "codemirror_mode": {
    "name": "ipython",
    "version": 3
   },
   "file_extension": ".py",
   "mimetype": "text/x-python",
   "name": "python",
   "nbconvert_exporter": "python",
   "pygments_lexer": "ipython3",
   "version": "3.7.6"
  }
 },
 "nbformat": 4,
 "nbformat_minor": 1
}
