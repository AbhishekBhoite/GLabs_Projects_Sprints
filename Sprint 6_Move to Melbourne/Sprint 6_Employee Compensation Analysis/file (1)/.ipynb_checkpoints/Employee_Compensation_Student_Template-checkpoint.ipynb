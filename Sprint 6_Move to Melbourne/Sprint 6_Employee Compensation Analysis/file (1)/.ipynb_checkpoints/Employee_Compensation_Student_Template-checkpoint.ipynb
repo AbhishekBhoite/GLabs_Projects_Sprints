{
 "cells": [
  {
   "cell_type": "code",
   "execution_count": 59,
   "metadata": {},
   "outputs": [],
   "source": [
    "# import the modules\n",
    "import pandas as pd\n",
    "import numpy as np\n",
    "import matplotlib.pyplot as plt\n",
    "import seaborn as sns\n",
    "pd.set_option('display.max_columns',None)\n",
    "#import lightgbm as lgb\n",
    "\n",
    "from sklearn.model_selection import train_test_split, cross_val_score\n",
    "from sklearn.linear_model import LinearRegression, Lasso, Ridge\n",
    "from sklearn.metrics import r2_score\n",
    "from sklearn.preprocessing import PolynomialFeatures\n",
    "from sklearn.pipeline import make_pipeline\n",
    "\n",
    "import warnings\n",
    "warnings.filterwarnings('ignore')\n",
    "from sklearn.impute import SimpleImputer\n",
    "from sklearn.preprocessing import LabelEncoder\n",
    "from sklearn.preprocessing import StandardScaler\n",
    "from sklearn.model_selection import GridSearchCV, RandomizedSearchCV\n",
    "\n",
    "from sklearn.tree import DecisionTreeClassifier\n",
    "from sklearn.ensemble import GradientBoostingClassifier ,RandomForestClassifier ,GradientBoostingClassifier\n"
   ]
  },
  {
   "cell_type": "markdown",
   "metadata": {},
   "source": [
    "### Define the following functions as per the description, so that they can be called later to perform the tasks."
   ]
  },
  {
   "cell_type": "code",
   "execution_count": 60,
   "metadata": {},
   "outputs": [],
   "source": [
    "# to treat missing values\n",
    "\n",
    "def treat_null_values(df, column, method):\n",
    "    imputer= Imputer(strategy= method)\n",
    "    imputer= imputer.fit(df[[column]])\n",
    "    new_df= imputer.transform(df[[column]])\n",
    "    return pd.Dataframe(new_df)    "
   ]
  },
  {
   "cell_type": "code",
   "execution_count": 61,
   "metadata": {},
   "outputs": [],
   "source": [
    "\n",
    "# to seperate the numerical and categorical columns\n",
    "\n",
    "def num_and_cat_columns(df):\n",
    "    \"\"\"Return seperate list of numerical & categorical columns.\n",
    "    \n",
    "    This function accepts a dataframe and returns two lists,\n",
    "    one containing the names of numerical columns(num_cols) and the other categorical columns(cat_cols).\n",
    "        \n",
    "    Keyword arguments:\n",
    "    df -- pandas dataframe for which we want the list of columns\n",
    "    \n",
    "    Returns:\n",
    "    num_cols -- list of numerical columns\n",
    "    cat_cols -- list of categorical columns\n",
    "    \"\"\"\n",
    "    numeric_var = [key for key in dict(df.dtypes)\n",
    "                   if dict(df.dtypes)[key]\n",
    "                       in ['float64','float32','int32','int64']] # Numeric Variable\n",
    "    \n",
    "    cat_var = [key for key in dict(df.dtypes)\n",
    "             if dict(df.dtypes)[key] in ['object'] ] # Categorical Varible\n",
    "    \n",
    "    return numeric_var,cat_var\n",
    "    "
   ]
  },
  {
   "cell_type": "code",
   "execution_count": 62,
   "metadata": {},
   "outputs": [],
   "source": [
    "# to clean the dollar sign from the currency column & convert it to float.\n",
    "    \n",
    "def clean_dollar(df, column):\n",
    "    \"\"\"Removes \"$\" sign from a column & converts it to float.\n",
    "    \n",
    "    This function accepts a dataframe and columns with $ sign to be converted to float.\n",
    "        \n",
    "    Keyword arguments:\n",
    "    df -- pandas dataframe for which we want to encode the columns\n",
    "    col -- list of columns that is to be converted\n",
    "    \n",
    "    Returns:\n",
    "    df -- the converted dataframe\n",
    "    \"\"\"\n",
    "    new_df = df[column].apply(lambda x: x.replace('$', '').replace(',', '')\n",
    "                                if isinstance(x, str) else x).astype(float)\n",
    "    return new_df"
   ]
  },
  {
   "cell_type": "code",
   "execution_count": 63,
   "metadata": {},
   "outputs": [],
   "source": [
    "# to apply transformation to any column\n",
    "\n",
    "def power_trans(df,col,power):\n",
    "    \"\"\"Apply transformation to the column(s).\n",
    "    \n",
    "    This function will apply the passed transformation to the given dataframe & columns.\n",
    "    You can pass multiple columns to this function.\n",
    "        \n",
    "    Keyword arguments:\n",
    "    df -- pandas dataframe which has the data\n",
    "    col -- list of all the features for which we want to apply the transformation\n",
    "    transformation -- the transformation we want to apply\n",
    "    \"\"\"\n",
    "    lst = []\n",
    "    for i in df[col]:\n",
    "        if i < 0:\n",
    "            lst.append(-np.power(abs(i),power))\n",
    "        else:\n",
    "            lst.append(np.power(i,power))\n",
    "    return pd.DataFrame(lst)\n",
    "    \n",
    "    "
   ]
  },
  {
   "cell_type": "code",
   "execution_count": 64,
   "metadata": {},
   "outputs": [],
   "source": [
    "# to check outliers using box plot\n",
    "\n",
    "def check_outliers(df, col, cat):\n",
    "    \"\"\"Check outliers through boxplot.\n",
    "    \n",
    "    This function plots and displays the boxplot of the feature col vs all the categories defined. \n",
    "    Check for any outlier present.\n",
    "        \n",
    "    Keyword arguments:\n",
    "    df -- pandas dataframe which has the data\n",
    "    col -- the feature for which we want to plot the boxplot\n",
    "    cat -- the list of features (categorical) by which we want to check the outliers (for each category in each feature)\n",
    "    \"\"\"\n",
    "    \n",
    "    "
   ]
  },
  {
   "cell_type": "markdown",
   "metadata": {},
   "source": [
    "### Read the dataset. Take a look at the dataset. \n",
    "\n",
    "* Check the data types present in the dataframe.\n",
    "* Call the num_and_cat_columns() with train as the parameter and store the results.\n",
    "* Are there any missing values? Are there any Outliers? How do you want to treat them?\n"
   ]
  },
  {
   "cell_type": "code",
   "execution_count": 97,
   "metadata": {
    "scrolled": true
   },
   "outputs": [
    {
     "data": {
      "text/html": [
       "<div>\n",
       "<style scoped>\n",
       "    .dataframe tbody tr th:only-of-type {\n",
       "        vertical-align: middle;\n",
       "    }\n",
       "\n",
       "    .dataframe tbody tr th {\n",
       "        vertical-align: top;\n",
       "    }\n",
       "\n",
       "    .dataframe thead th {\n",
       "        text-align: right;\n",
       "    }\n",
       "</style>\n",
       "<table border=\"1\" class=\"dataframe\">\n",
       "  <thead>\n",
       "    <tr style=\"text-align: right;\">\n",
       "      <th></th>\n",
       "      <th>Id</th>\n",
       "      <th>Year Type</th>\n",
       "      <th>Year</th>\n",
       "      <th>Organization Group</th>\n",
       "      <th>Department</th>\n",
       "      <th>Union</th>\n",
       "      <th>Job Family</th>\n",
       "      <th>Job</th>\n",
       "      <th>Employee Identifier</th>\n",
       "      <th>Retirement</th>\n",
       "      <th>Health and Dental</th>\n",
       "      <th>Other Benefits</th>\n",
       "      <th>Total Compensation</th>\n",
       "    </tr>\n",
       "  </thead>\n",
       "  <tbody>\n",
       "    <tr>\n",
       "      <th>0</th>\n",
       "      <td>0</td>\n",
       "      <td>Calendar</td>\n",
       "      <td>2018</td>\n",
       "      <td>Community Health</td>\n",
       "      <td>NaN</td>\n",
       "      <td>Prof &amp; Tech Eng, Local 21</td>\n",
       "      <td>Information Systems</td>\n",
       "      <td>IS Business Analyst-Principal</td>\n",
       "      <td>8594384</td>\n",
       "      <td>$0.0</td>\n",
       "      <td>$13527.66</td>\n",
       "      <td>$0.0</td>\n",
       "      <td>0.00</td>\n",
       "    </tr>\n",
       "    <tr>\n",
       "      <th>1</th>\n",
       "      <td>1</td>\n",
       "      <td>Calendar</td>\n",
       "      <td>2014</td>\n",
       "      <td>Public Works, Transportation &amp; Commerce</td>\n",
       "      <td>MTA Municipal Transprtn Agncy</td>\n",
       "      <td>SEIU - Miscellaneous, Local 1021</td>\n",
       "      <td>Public Service Aide</td>\n",
       "      <td>Publ Svc Aide-Asst To Prof</td>\n",
       "      <td>22142</td>\n",
       "      <td>$0.0</td>\n",
       "      <td>$3995.56</td>\n",
       "      <td>$875.27</td>\n",
       "      <td>16176.35</td>\n",
       "    </tr>\n",
       "    <tr>\n",
       "      <th>2</th>\n",
       "      <td>2</td>\n",
       "      <td>Fiscal</td>\n",
       "      <td>2018</td>\n",
       "      <td>General City Responsibilities</td>\n",
       "      <td>NaN</td>\n",
       "      <td>SEIU, Local 1021, Misc</td>\n",
       "      <td>Payroll, Billing &amp; Accounting</td>\n",
       "      <td>Senior Account Clerk</td>\n",
       "      <td>8512172</td>\n",
       "      <td>$0.0</td>\n",
       "      <td>$0.0</td>\n",
       "      <td>$0.0</td>\n",
       "      <td>248.30</td>\n",
       "    </tr>\n",
       "    <tr>\n",
       "      <th>3</th>\n",
       "      <td>3</td>\n",
       "      <td>Fiscal</td>\n",
       "      <td>2015</td>\n",
       "      <td>Community Health</td>\n",
       "      <td>DPH Public Health</td>\n",
       "      <td>SEIU - Miscellaneous, Local 1021</td>\n",
       "      <td>Purchasing &amp; Storekeeping</td>\n",
       "      <td>Sr Materials &amp; Supplies Sprv</td>\n",
       "      <td>47593</td>\n",
       "      <td>$11671.59</td>\n",
       "      <td>$10680.55</td>\n",
       "      <td>$4400.24</td>\n",
       "      <td>80020.86</td>\n",
       "    </tr>\n",
       "    <tr>\n",
       "      <th>4</th>\n",
       "      <td>4</td>\n",
       "      <td>Fiscal</td>\n",
       "      <td>2014</td>\n",
       "      <td>Community Health</td>\n",
       "      <td>DPH Public Health</td>\n",
       "      <td>SEIU - Miscellaneous, Local 1021</td>\n",
       "      <td>Hospital Administration</td>\n",
       "      <td>Medical Records Technician</td>\n",
       "      <td>47549</td>\n",
       "      <td>$14617.66</td>\n",
       "      <td>$12464.61</td>\n",
       "      <td>$5562.09</td>\n",
       "      <td>101207.38</td>\n",
       "    </tr>\n",
       "  </tbody>\n",
       "</table>\n",
       "</div>"
      ],
      "text/plain": [
       "   Id Year Type  Year                       Organization Group  \\\n",
       "0   0  Calendar  2018                         Community Health   \n",
       "1   1  Calendar  2014  Public Works, Transportation & Commerce   \n",
       "2   2    Fiscal  2018            General City Responsibilities   \n",
       "3   3    Fiscal  2015                         Community Health   \n",
       "4   4    Fiscal  2014                         Community Health   \n",
       "\n",
       "                      Department                             Union  \\\n",
       "0                            NaN         Prof & Tech Eng, Local 21   \n",
       "1  MTA Municipal Transprtn Agncy  SEIU - Miscellaneous, Local 1021   \n",
       "2                            NaN            SEIU, Local 1021, Misc   \n",
       "3              DPH Public Health  SEIU - Miscellaneous, Local 1021   \n",
       "4              DPH Public Health  SEIU - Miscellaneous, Local 1021   \n",
       "\n",
       "                      Job Family                            Job  \\\n",
       "0            Information Systems  IS Business Analyst-Principal   \n",
       "1            Public Service Aide     Publ Svc Aide-Asst To Prof   \n",
       "2  Payroll, Billing & Accounting           Senior Account Clerk   \n",
       "3      Purchasing & Storekeeping   Sr Materials & Supplies Sprv   \n",
       "4        Hospital Administration     Medical Records Technician   \n",
       "\n",
       "   Employee Identifier Retirement Health and Dental Other Benefits  \\\n",
       "0              8594384       $0.0         $13527.66           $0.0   \n",
       "1                22142       $0.0          $3995.56        $875.27   \n",
       "2              8512172       $0.0              $0.0           $0.0   \n",
       "3                47593  $11671.59         $10680.55       $4400.24   \n",
       "4                47549  $14617.66         $12464.61       $5562.09   \n",
       "\n",
       "   Total Compensation  \n",
       "0                0.00  \n",
       "1            16176.35  \n",
       "2              248.30  \n",
       "3            80020.86  \n",
       "4           101207.38  "
      ]
     },
     "execution_count": 97,
     "metadata": {},
     "output_type": "execute_result"
    }
   ],
   "source": [
    "# Code starts here\n",
    "train= pd.read_csv(r\"C:\\Users\\vaibh\\Desktop\\Python DS\\Sprint 6_Move to Melbourne\\Sprint 6_Employee Compensation Analysis\\file (1)\\train.csv\")\n",
    "train.head()"
   ]
  },
  {
   "cell_type": "code",
   "execution_count": 98,
   "metadata": {},
   "outputs": [
    {
     "name": "stdout",
     "output_type": "stream",
     "text": [
      "Numerical Columns- ['Id', 'Year', 'Employee Identifier', 'Total Compensation']\n",
      "Categorical Columns- ['Year Type', 'Organization Group', 'Department', 'Union', 'Job Family', 'Job', 'Retirement', 'Health and Dental', 'Other Benefits']\n"
     ]
    }
   ],
   "source": [
    "# Call the num_and_cat_columns() with train as the parameter and store the results.\n",
    "num_cols,cat_cols= num_and_cat_columns(train)\n",
    "print(\"Numerical Columns-\",num_cols)\n",
    "print(\"Categorical Columns-\",cat_cols)"
   ]
  },
  {
   "cell_type": "code",
   "execution_count": 99,
   "metadata": {},
   "outputs": [
    {
     "name": "stdout",
     "output_type": "stream",
     "text": [
      "(567103, 13)\n",
      "Id                          0\n",
      "Year Type                   0\n",
      "Year                        0\n",
      "Organization Group          0\n",
      "Department             295065\n",
      "Union                     345\n",
      "Job Family                  0\n",
      "Job                         3\n",
      "Employee Identifier         0\n",
      "Retirement                  0\n",
      "Health and Dental           0\n",
      "Other Benefits              0\n",
      "Total Compensation          0\n",
      "dtype: int64\n",
      "Id                     567103\n",
      "Year Type                   2\n",
      "Year                        8\n",
      "Organization Group          7\n",
      "Department                 56\n",
      "Union                     121\n",
      "Job Family                 59\n",
      "Job                      1123\n",
      "Employee Identifier    102906\n",
      "Retirement             227345\n",
      "Health and Dental      115380\n",
      "Other Benefits         272977\n",
      "Total Compensation     339848\n",
      "dtype: int64\n"
     ]
    }
   ],
   "source": [
    "# Are there any missing values?  How do you want to treat them?\n",
    "print(train.shape)\n",
    "print(train.isnull().sum())\n",
    "print(train.nunique())"
   ]
  },
  {
   "cell_type": "code",
   "execution_count": 100,
   "metadata": {},
   "outputs": [],
   "source": [
    "# Drop the Column 'Id' because all unique values and column 'Department' because half of them are null values. \n",
    "train.drop(['Id'], axis=1, inplace=True)\n",
    "train.drop(['Department'], axis=1, inplace=True)\n",
    "train.drop(['Employee Identifier'], axis=1, inplace=True)\n",
    "train.drop(['Job'],axis=1, inplace=True)"
   ]
  },
  {
   "cell_type": "code",
   "execution_count": 101,
   "metadata": {},
   "outputs": [
    {
     "name": "stdout",
     "output_type": "stream",
     "text": [
      "122\n",
      "Year Type             0\n",
      "Year                  0\n",
      "Organization Group    0\n",
      "Union                 0\n",
      "Job Family            0\n",
      "Retirement            0\n",
      "Health and Dental     0\n",
      "Other Benefits        0\n",
      "Total Compensation    0\n",
      "dtype: int64\n"
     ]
    }
   ],
   "source": [
    "# Fill the empty values from 'Union' column as 'Unrepresented'\n",
    "train['Union'].fillna('Unrepresented', inplace=True)\n",
    "print(train['Union'].nunique())\n",
    "print(train.isnull().sum())"
   ]
  },
  {
   "cell_type": "markdown",
   "metadata": {},
   "source": [
    "### Visualize the data\n",
    "\n",
    "- Check for the categorical & continuous features. \n",
    "- Check out the best plots for plotting between categorical target and continuous features and try making some inferences from these plots.\n",
    "- Clean the data and apply some data preprocessing techniques"
   ]
  },
  {
   "cell_type": "code",
   "execution_count": 102,
   "metadata": {},
   "outputs": [
    {
     "data": {
      "text/html": [
       "<div>\n",
       "<style scoped>\n",
       "    .dataframe tbody tr th:only-of-type {\n",
       "        vertical-align: middle;\n",
       "    }\n",
       "\n",
       "    .dataframe tbody tr th {\n",
       "        vertical-align: top;\n",
       "    }\n",
       "\n",
       "    .dataframe thead th {\n",
       "        text-align: right;\n",
       "    }\n",
       "</style>\n",
       "<table border=\"1\" class=\"dataframe\">\n",
       "  <thead>\n",
       "    <tr style=\"text-align: right;\">\n",
       "      <th></th>\n",
       "      <th>Year Type</th>\n",
       "      <th>Year</th>\n",
       "      <th>Organization Group</th>\n",
       "      <th>Union</th>\n",
       "      <th>Job Family</th>\n",
       "      <th>Retirement</th>\n",
       "      <th>Health and Dental</th>\n",
       "      <th>Other Benefits</th>\n",
       "      <th>Total Compensation</th>\n",
       "    </tr>\n",
       "  </thead>\n",
       "  <tbody>\n",
       "    <tr>\n",
       "      <th>0</th>\n",
       "      <td>Calendar</td>\n",
       "      <td>2018</td>\n",
       "      <td>Community Health</td>\n",
       "      <td>Prof &amp; Tech Eng, Local 21</td>\n",
       "      <td>Information Systems</td>\n",
       "      <td>$0.0</td>\n",
       "      <td>$13527.66</td>\n",
       "      <td>$0.0</td>\n",
       "      <td>0.00</td>\n",
       "    </tr>\n",
       "    <tr>\n",
       "      <th>1</th>\n",
       "      <td>Calendar</td>\n",
       "      <td>2014</td>\n",
       "      <td>Public Works, Transportation &amp; Commerce</td>\n",
       "      <td>SEIU - Miscellaneous, Local 1021</td>\n",
       "      <td>Public Service Aide</td>\n",
       "      <td>$0.0</td>\n",
       "      <td>$3995.56</td>\n",
       "      <td>$875.27</td>\n",
       "      <td>16176.35</td>\n",
       "    </tr>\n",
       "    <tr>\n",
       "      <th>2</th>\n",
       "      <td>Fiscal</td>\n",
       "      <td>2018</td>\n",
       "      <td>General City Responsibilities</td>\n",
       "      <td>SEIU, Local 1021, Misc</td>\n",
       "      <td>Payroll, Billing &amp; Accounting</td>\n",
       "      <td>$0.0</td>\n",
       "      <td>$0.0</td>\n",
       "      <td>$0.0</td>\n",
       "      <td>248.30</td>\n",
       "    </tr>\n",
       "    <tr>\n",
       "      <th>3</th>\n",
       "      <td>Fiscal</td>\n",
       "      <td>2015</td>\n",
       "      <td>Community Health</td>\n",
       "      <td>SEIU - Miscellaneous, Local 1021</td>\n",
       "      <td>Purchasing &amp; Storekeeping</td>\n",
       "      <td>$11671.59</td>\n",
       "      <td>$10680.55</td>\n",
       "      <td>$4400.24</td>\n",
       "      <td>80020.86</td>\n",
       "    </tr>\n",
       "    <tr>\n",
       "      <th>4</th>\n",
       "      <td>Fiscal</td>\n",
       "      <td>2014</td>\n",
       "      <td>Community Health</td>\n",
       "      <td>SEIU - Miscellaneous, Local 1021</td>\n",
       "      <td>Hospital Administration</td>\n",
       "      <td>$14617.66</td>\n",
       "      <td>$12464.61</td>\n",
       "      <td>$5562.09</td>\n",
       "      <td>101207.38</td>\n",
       "    </tr>\n",
       "  </tbody>\n",
       "</table>\n",
       "</div>"
      ],
      "text/plain": [
       "  Year Type  Year                       Organization Group  \\\n",
       "0  Calendar  2018                         Community Health   \n",
       "1  Calendar  2014  Public Works, Transportation & Commerce   \n",
       "2    Fiscal  2018            General City Responsibilities   \n",
       "3    Fiscal  2015                         Community Health   \n",
       "4    Fiscal  2014                         Community Health   \n",
       "\n",
       "                              Union                     Job Family Retirement  \\\n",
       "0         Prof & Tech Eng, Local 21            Information Systems       $0.0   \n",
       "1  SEIU - Miscellaneous, Local 1021            Public Service Aide       $0.0   \n",
       "2            SEIU, Local 1021, Misc  Payroll, Billing & Accounting       $0.0   \n",
       "3  SEIU - Miscellaneous, Local 1021      Purchasing & Storekeeping  $11671.59   \n",
       "4  SEIU - Miscellaneous, Local 1021        Hospital Administration  $14617.66   \n",
       "\n",
       "  Health and Dental Other Benefits  Total Compensation  \n",
       "0         $13527.66           $0.0                0.00  \n",
       "1          $3995.56        $875.27            16176.35  \n",
       "2              $0.0           $0.0              248.30  \n",
       "3         $10680.55       $4400.24            80020.86  \n",
       "4         $12464.61       $5562.09           101207.38  "
      ]
     },
     "execution_count": 102,
     "metadata": {},
     "output_type": "execute_result"
    }
   ],
   "source": [
    "train.head()"
   ]
  },
  {
   "cell_type": "code",
   "execution_count": 103,
   "metadata": {},
   "outputs": [
    {
     "data": {
      "text/html": [
       "<div>\n",
       "<style scoped>\n",
       "    .dataframe tbody tr th:only-of-type {\n",
       "        vertical-align: middle;\n",
       "    }\n",
       "\n",
       "    .dataframe tbody tr th {\n",
       "        vertical-align: top;\n",
       "    }\n",
       "\n",
       "    .dataframe thead th {\n",
       "        text-align: right;\n",
       "    }\n",
       "</style>\n",
       "<table border=\"1\" class=\"dataframe\">\n",
       "  <thead>\n",
       "    <tr style=\"text-align: right;\">\n",
       "      <th></th>\n",
       "      <th>Year Type</th>\n",
       "      <th>Year</th>\n",
       "      <th>Organization Group</th>\n",
       "      <th>Union</th>\n",
       "      <th>Job Family</th>\n",
       "      <th>Retirement</th>\n",
       "      <th>Health and Dental</th>\n",
       "      <th>Other Benefits</th>\n",
       "      <th>Total Compensation</th>\n",
       "    </tr>\n",
       "  </thead>\n",
       "  <tbody>\n",
       "    <tr>\n",
       "      <th>0</th>\n",
       "      <td>Calendar</td>\n",
       "      <td>2018</td>\n",
       "      <td>Community Health</td>\n",
       "      <td>Prof &amp; Tech Eng, Local 21</td>\n",
       "      <td>Information Systems</td>\n",
       "      <td>0.00</td>\n",
       "      <td>13527.66</td>\n",
       "      <td>0.00</td>\n",
       "      <td>0.00</td>\n",
       "    </tr>\n",
       "    <tr>\n",
       "      <th>1</th>\n",
       "      <td>Calendar</td>\n",
       "      <td>2014</td>\n",
       "      <td>Public Works, Transportation &amp; Commerce</td>\n",
       "      <td>SEIU - Miscellaneous, Local 1021</td>\n",
       "      <td>Public Service Aide</td>\n",
       "      <td>0.00</td>\n",
       "      <td>3995.56</td>\n",
       "      <td>875.27</td>\n",
       "      <td>16176.35</td>\n",
       "    </tr>\n",
       "    <tr>\n",
       "      <th>2</th>\n",
       "      <td>Fiscal</td>\n",
       "      <td>2018</td>\n",
       "      <td>General City Responsibilities</td>\n",
       "      <td>SEIU, Local 1021, Misc</td>\n",
       "      <td>Payroll, Billing &amp; Accounting</td>\n",
       "      <td>0.00</td>\n",
       "      <td>0.00</td>\n",
       "      <td>0.00</td>\n",
       "      <td>248.30</td>\n",
       "    </tr>\n",
       "    <tr>\n",
       "      <th>3</th>\n",
       "      <td>Fiscal</td>\n",
       "      <td>2015</td>\n",
       "      <td>Community Health</td>\n",
       "      <td>SEIU - Miscellaneous, Local 1021</td>\n",
       "      <td>Purchasing &amp; Storekeeping</td>\n",
       "      <td>11671.59</td>\n",
       "      <td>10680.55</td>\n",
       "      <td>4400.24</td>\n",
       "      <td>80020.86</td>\n",
       "    </tr>\n",
       "    <tr>\n",
       "      <th>4</th>\n",
       "      <td>Fiscal</td>\n",
       "      <td>2014</td>\n",
       "      <td>Community Health</td>\n",
       "      <td>SEIU - Miscellaneous, Local 1021</td>\n",
       "      <td>Hospital Administration</td>\n",
       "      <td>14617.66</td>\n",
       "      <td>12464.61</td>\n",
       "      <td>5562.09</td>\n",
       "      <td>101207.38</td>\n",
       "    </tr>\n",
       "  </tbody>\n",
       "</table>\n",
       "</div>"
      ],
      "text/plain": [
       "  Year Type  Year                       Organization Group  \\\n",
       "0  Calendar  2018                         Community Health   \n",
       "1  Calendar  2014  Public Works, Transportation & Commerce   \n",
       "2    Fiscal  2018            General City Responsibilities   \n",
       "3    Fiscal  2015                         Community Health   \n",
       "4    Fiscal  2014                         Community Health   \n",
       "\n",
       "                              Union                     Job Family  \\\n",
       "0         Prof & Tech Eng, Local 21            Information Systems   \n",
       "1  SEIU - Miscellaneous, Local 1021            Public Service Aide   \n",
       "2            SEIU, Local 1021, Misc  Payroll, Billing & Accounting   \n",
       "3  SEIU - Miscellaneous, Local 1021      Purchasing & Storekeeping   \n",
       "4  SEIU - Miscellaneous, Local 1021        Hospital Administration   \n",
       "\n",
       "   Retirement  Health and Dental  Other Benefits  Total Compensation  \n",
       "0        0.00           13527.66            0.00                0.00  \n",
       "1        0.00            3995.56          875.27            16176.35  \n",
       "2        0.00               0.00            0.00              248.30  \n",
       "3    11671.59           10680.55         4400.24            80020.86  \n",
       "4    14617.66           12464.61         5562.09           101207.38  "
      ]
     },
     "execution_count": 103,
     "metadata": {},
     "output_type": "execute_result"
    }
   ],
   "source": [
    "# Code starts here\n",
    "\n",
    "# Have a look at the features, check the type where any currency is involved. \n",
    "# We have columns with compensations stored in form of strings. We need to clean it and convert this to numeric. \n",
    "# Call the clean_dollar() to do the same. \n",
    "curr_columns=['Retirement','Health and Dental','Other Benefits']\n",
    "train['Retirement']= clean_dollar(train, 'Retirement')\n",
    "train['Health and Dental']= clean_dollar(train, 'Health and Dental')\n",
    "train['Other Benefits']= clean_dollar(train, 'Other Benefits')\n",
    "train.head()"
   ]
  },
  {
   "cell_type": "code",
   "execution_count": 104,
   "metadata": {
    "scrolled": true
   },
   "outputs": [
    {
     "name": "stdout",
     "output_type": "stream",
     "text": [
      "Numerical Columns- ['Year', 'Retirement', 'Health and Dental', 'Other Benefits', 'Total Compensation']\n",
      "Categorical Columns- ['Year Type', 'Organization Group', 'Union', 'Job Family']\n"
     ]
    },
    {
     "data": {
      "text/plain": [
       "Year Type                  2\n",
       "Year                       8\n",
       "Organization Group         7\n",
       "Union                    122\n",
       "Job Family                59\n",
       "Retirement            227345\n",
       "Health and Dental     115380\n",
       "Other Benefits        272977\n",
       "Total Compensation    339848\n",
       "dtype: int64"
      ]
     },
     "execution_count": 104,
     "metadata": {},
     "output_type": "execute_result"
    }
   ],
   "source": [
    "# Call the num_and_cat_columns() with train as the parameter and store the results. AGAIN\n",
    "num_cols,cat_cols= num_and_cat_columns(train)\n",
    "print(\"Numerical Columns-\",num_cols)\n",
    "print(\"Categorical Columns-\",cat_cols)\n",
    "train.nunique()"
   ]
  },
  {
   "cell_type": "code",
   "execution_count": 105,
   "metadata": {
    "scrolled": true
   },
   "outputs": [
    {
     "data": {
      "image/png": "[encoded data removed]",
      "text/plain": [
       "<Figure size 432x288 with 1 Axes>"
      ]
     },
     "metadata": {
      "needs_background": "light"
     },
     "output_type": "display_data"
    },
    {
     "data": {
      "image/png": "[encoded data removed]",
      "text/plain": [
       "<Figure size 432x288 with 1 Axes>"
      ]
     },
     "metadata": {
      "needs_background": "light"
     },
     "output_type": "display_data"
    },
    {
     "data": {
      "image/png": "[encoded data removed]",
      "text/plain": [
       "<Figure size 432x288 with 1 Axes>"
      ]
     },
     "metadata": {
      "needs_background": "light"
     },
     "output_type": "display_data"
    },
    {
     "data": {
      "image/png": "[encoded data removed]",
      "text/plain": [
       "<Figure size 432x288 with 1 Axes>"
      ]
     },
     "metadata": {
      "needs_background": "light"
     },
     "output_type": "display_data"
    },
    {
     "data": {
      "image/png": "[encoded data removed]",
      "text/plain": [
       "<Figure size 432x288 with 1 Axes>"
      ]
     },
     "metadata": {
      "needs_background": "light"
     },
     "output_type": "display_data"
    }
   ],
   "source": [
    "# Check the distribution of certain columns you might find of interest. \n",
    "# This can be done by calling the plot_distribution(). \n",
    "for column in num_cols:\n",
    "    train[column].hist()\n",
    "    plt.title(column)\n",
    "    plt.show()"
   ]
  },
  {
   "cell_type": "code",
   "execution_count": 106,
   "metadata": {},
   "outputs": [],
   "source": [
    "# Apply some good transformation if required. Call transform_column() to do the same.\n",
    "train['Retirement']= power_trans(train,'Retirement',0.56)\n",
    "train['Health and Dental']= power_trans(train,'Health and Dental',0.77)\n",
    "train['Other Benefits']= power_trans(train,'Other Benefits',0.53)"
   ]
  },
  {
   "cell_type": "code",
   "execution_count": 19,
   "metadata": {},
   "outputs": [],
   "source": [
    "from sklearn.preprocessing import LabelBinarizer"
   ]
  },
  {
   "cell_type": "code",
   "execution_count": null,
   "metadata": {},
   "outputs": [],
   "source": [
    "label_encoder= LabelBinarizer()"
   ]
  },
  {
   "cell_type": "code",
   "execution_count": null,
   "metadata": {
    "scrolled": true
   },
   "outputs": [],
   "source": [
    "train= pd.concat([pd.DataFrame(label_encoder.fit_transform(train['Union'])),train], axis=1)\n",
    "train.head()"
   ]
  },
  {
   "cell_type": "code",
   "execution_count": 91,
   "metadata": {},
   "outputs": [
    {
     "name": "stdout",
     "output_type": "stream",
     "text": [
      "(567103, 9)\n"
     ]
    },
    {
     "data": {
      "text/plain": [
       "Year Type                  2\n",
       "Year                       8\n",
       "Organization Group         7\n",
       "Union                    122\n",
       "Job Family                59\n",
       "Retirement            227345\n",
       "Health and Dental     115380\n",
       "Other Benefits        272977\n",
       "Total Compensation    339848\n",
       "dtype: int64"
      ]
     },
     "execution_count": 91,
     "metadata": {},
     "output_type": "execute_result"
    }
   ],
   "source": [
    "print(train.shape)\n",
    "train.nunique()"
   ]
  },
  {
   "cell_type": "code",
   "execution_count": 92,
   "metadata": {
    "scrolled": true
   },
   "outputs": [],
   "source": [
    "# to encode the categorical column so as to convert them to numeric.\n",
    "# Before we proceed with the model fitting, we need to get rid of the categorical columns.\n",
    "# We can use One Hot Encoding or Label Encoding to convert the categorical columns to numeric.\n",
    "#Call the encode_category() with the list of columns and the method of encoding to do the same.\n",
    "train= pd.concat([pd.get_dummies(train['Union']),train], axis=1)\n",
    "train= pd.concat([pd.get_dummies(train['Job Family']),train], axis=1)\n",
    "train= pd.concat([pd.get_dummies(train['Year']),train], axis=1)\n",
    "train= pd.concat([pd.get_dummies(train['Year Type']),train], axis=1)"
   ]
  },
  {
   "cell_type": "code",
   "execution_count": 107,
   "metadata": {},
   "outputs": [
    {
     "name": "stdout",
     "output_type": "stream",
     "text": [
      "(567103, 4)\n"
     ]
    },
    {
     "data": {
      "text/html": [
       "<div>\n",
       "<style scoped>\n",
       "    .dataframe tbody tr th:only-of-type {\n",
       "        vertical-align: middle;\n",
       "    }\n",
       "\n",
       "    .dataframe tbody tr th {\n",
       "        vertical-align: top;\n",
       "    }\n",
       "\n",
       "    .dataframe thead th {\n",
       "        text-align: right;\n",
       "    }\n",
       "</style>\n",
       "<table border=\"1\" class=\"dataframe\">\n",
       "  <thead>\n",
       "    <tr style=\"text-align: right;\">\n",
       "      <th></th>\n",
       "      <th>Retirement</th>\n",
       "      <th>Health and Dental</th>\n",
       "      <th>Other Benefits</th>\n",
       "      <th>Total Compensation</th>\n",
       "    </tr>\n",
       "  </thead>\n",
       "  <tbody>\n",
       "    <tr>\n",
       "      <th>0</th>\n",
       "      <td>0.000000</td>\n",
       "      <td>1517.195211</td>\n",
       "      <td>0.000000</td>\n",
       "      <td>0.00</td>\n",
       "    </tr>\n",
       "    <tr>\n",
       "      <th>1</th>\n",
       "      <td>0.000000</td>\n",
       "      <td>593.218649</td>\n",
       "      <td>36.252276</td>\n",
       "      <td>16176.35</td>\n",
       "    </tr>\n",
       "    <tr>\n",
       "      <th>2</th>\n",
       "      <td>0.000000</td>\n",
       "      <td>0.000000</td>\n",
       "      <td>0.000000</td>\n",
       "      <td>248.30</td>\n",
       "    </tr>\n",
       "    <tr>\n",
       "      <th>3</th>\n",
       "      <td>189.492844</td>\n",
       "      <td>1264.786104</td>\n",
       "      <td>85.318355</td>\n",
       "      <td>80020.86</td>\n",
       "    </tr>\n",
       "    <tr>\n",
       "      <th>4</th>\n",
       "      <td>214.947105</td>\n",
       "      <td>1424.533264</td>\n",
       "      <td>96.599782</td>\n",
       "      <td>101207.38</td>\n",
       "    </tr>\n",
       "  </tbody>\n",
       "</table>\n",
       "</div>"
      ],
      "text/plain": [
       "   Retirement  Health and Dental  Other Benefits  Total Compensation\n",
       "0    0.000000        1517.195211        0.000000                0.00\n",
       "1    0.000000         593.218649       36.252276            16176.35\n",
       "2    0.000000           0.000000        0.000000              248.30\n",
       "3  189.492844        1264.786104       85.318355            80020.86\n",
       "4  214.947105        1424.533264       96.599782           101207.38"
      ]
     },
     "execution_count": 107,
     "metadata": {},
     "output_type": "execute_result"
    }
   ],
   "source": [
    "train.drop(['Organization Group','Job Family','Union','Year','Year Type'],axis=1, inplace=True)\n",
    "print(train.shape)\n",
    "train.head()"
   ]
  },
  {
   "cell_type": "code",
   "execution_count": 108,
   "metadata": {},
   "outputs": [
    {
     "name": "stdout",
     "output_type": "stream",
     "text": [
      "Numerical Columns- ['Retirement', 'Health and Dental', 'Other Benefits', 'Total Compensation']\n",
      "Categorical Columns- []\n"
     ]
    }
   ],
   "source": [
    "# Now since we have encoded all the categorical columns, there shouldn't be any left in the data.\n",
    "# Check the same by calling num_and_cat_columns()\n",
    "num_cols,cat_cols= num_and_cat_columns(train)\n",
    "print(\"Numerical Columns-\",num_cols)\n",
    "print(\"Categorical Columns-\",cat_cols)"
   ]
  },
  {
   "cell_type": "markdown",
   "metadata": {},
   "source": [
    "### Model building\n",
    "\n",
    "- Separate the features and target.\n",
    "- Now let's come to the actual task, using linear regression, predict the `Total Compensation`. Use different techniques you have learned to imporove the performance of the model.\n",
    "- Try improving upon the `r2_score` (R-Square) using different parameters that give the best score. Call the `fit_model()` with respective parameters.\n",
    "\n"
   ]
  },
  {
   "cell_type": "code",
   "execution_count": 95,
   "metadata": {},
   "outputs": [
    {
     "name": "stdout",
     "output_type": "stream",
     "text": [
      "The highest r2_score using Linear Regression Model is 0.9237772480326605 with chosen random state 5\n"
     ]
    }
   ],
   "source": [
    "# Code Starts here\n",
    "# Split the train data into train and validation set\n",
    "X= train.drop('Total Compensation',1)\n",
    "y= train['Total Compensation']\n",
    "\n",
    "highest_r2_scr= 0\n",
    "chosen_state= 0\n",
    "\n",
    "for n in range(10):\n",
    "    random_state=n\n",
    "    X_train,X_test,y_train,y_test= train_test_split(X,y,random_state=random_state,test_size=0.3)\n",
    "    \n",
    "    #Standardize the data\n",
    "    Scaler= StandardScaler()\n",
    "    X_train= Scaler.fit_transform(X_train)\n",
    "    X_test= Scaler.transform(X_test)\n",
    "    \n",
    "    #Initialize the Linear Regression Model\n",
    "    model=LinearRegression()\n",
    "    \n",
    "    #Predict the accuracy score\n",
    "    model.fit(X_train,y_train)\n",
    "    pred=model.predict(X_test)\n",
    "    r2_scr= r2_score(y_test,pred)\n",
    "    if r2_scr>highest_r2_scr:\n",
    "        highest_r2_scr=r2_scr\n",
    "        chosen_state=n\n",
    "print(\"The highest r2_score using Linear Regression Model is {} with chosen random state {}\".format(highest_r2_scr,chosen_state))\n",
    "# Code ends here."
   ]
  },
  {
   "cell_type": "code",
   "execution_count": 131,
   "metadata": {},
   "outputs": [
    {
     "name": "stdout",
     "output_type": "stream",
     "text": [
      "The highest r2_score using Ridge Model is 0.9557826660489029 with chosen random state 5\n"
     ]
    }
   ],
   "source": [
    "# Split the train data into train and validation set\n",
    "X= train.drop('Total Compensation',1)\n",
    "y= train['Total Compensation']\n",
    "\n",
    "highest_r2_scr= 0\n",
    "chosen_state= 0\n",
    "\n",
    "for n in range(10):\n",
    "    random_state=n\n",
    "    X_train,X_test,y_train,y_test= train_test_split(X,y,random_state=random_state,test_size=0.3)\n",
    "    \n",
    "    #Standardize the data\n",
    "    Scaler= StandardScaler()\n",
    "    X_train= Scaler.fit_transform(X_train)\n",
    "    X_test= Scaler.transform(X_test)\n",
    "    \n",
    "    #Initialize the Ridge Model\n",
    "    ridge=Ridge()\n",
    "    \n",
    "    \n",
    "    #Polynomial Features\n",
    "    poly= PolynomialFeatures()\n",
    "    X_train=poly.fit_transform(X_train)\n",
    "    X_test=poly.transform(X_test)\n",
    "    \n",
    "    #Predict the accuracy score\n",
    "    ridge.fit(X_train,y_train)\n",
    "    pred=ridge.predict(X_test)\n",
    "    r2_scr= r2_score(y_test,pred)  \n",
    "    if r2_scr>highest_r2_scr:\n",
    "        highest_r2_scr=r2_scr\n",
    "        chosen_state=n\n",
    "print(\"The highest r2_score using Ridge Model is {} with chosen random state {}\".format(highest_r2_scr,chosen_state))\n",
    "\n",
    "#Code Ends here"
   ]
  },
  {
   "cell_type": "markdown",
   "metadata": {},
   "source": [
    "### Prediction on the test data and creating the sample submission file.\n",
    "\n",
    "- Load the test data and store the `Id` column in a separate variable.\n",
    "- Perform the same operations on the test data that you have performed on the train data.\n",
    "- Create the submission file as a `csv` file consisting of the `Id` column from the test data and your prediction as the second column."
   ]
  },
  {
   "cell_type": "code",
   "execution_count": 143,
   "metadata": {},
   "outputs": [
    {
     "data": {
      "text/html": [
       "<div>\n",
       "<style scoped>\n",
       "    .dataframe tbody tr th:only-of-type {\n",
       "        vertical-align: middle;\n",
       "    }\n",
       "\n",
       "    .dataframe tbody tr th {\n",
       "        vertical-align: top;\n",
       "    }\n",
       "\n",
       "    .dataframe thead th {\n",
       "        text-align: right;\n",
       "    }\n",
       "</style>\n",
       "<table border=\"1\" class=\"dataframe\">\n",
       "  <thead>\n",
       "    <tr style=\"text-align: right;\">\n",
       "      <th></th>\n",
       "      <th>Id</th>\n",
       "      <th>Year Type</th>\n",
       "      <th>Year</th>\n",
       "      <th>Organization Group</th>\n",
       "      <th>Department</th>\n",
       "      <th>Union</th>\n",
       "      <th>Job Family</th>\n",
       "      <th>Job</th>\n",
       "      <th>Employee Identifier</th>\n",
       "      <th>Retirement</th>\n",
       "      <th>Health and Dental</th>\n",
       "      <th>Other Benefits</th>\n",
       "    </tr>\n",
       "  </thead>\n",
       "  <tbody>\n",
       "    <tr>\n",
       "      <th>0</th>\n",
       "      <td>0</td>\n",
       "      <td>Calendar</td>\n",
       "      <td>2017</td>\n",
       "      <td>Public Works, Transportation &amp; Commerce</td>\n",
       "      <td>NaN</td>\n",
       "      <td>Electrical Workers, Local 6</td>\n",
       "      <td>Journeyman Trade</td>\n",
       "      <td>Electrical Line Worker</td>\n",
       "      <td>8549078</td>\n",
       "      <td>$0.0</td>\n",
       "      <td>$13051.16</td>\n",
       "      <td>$0.0</td>\n",
       "    </tr>\n",
       "    <tr>\n",
       "      <th>1</th>\n",
       "      <td>1</td>\n",
       "      <td>Calendar</td>\n",
       "      <td>2019</td>\n",
       "      <td>Public Protection</td>\n",
       "      <td>NaN</td>\n",
       "      <td>SEIU, Local 1021, Misc</td>\n",
       "      <td>Correction &amp; Detention</td>\n",
       "      <td>Counselor, Juvenile Hall PERS</td>\n",
       "      <td>8546443</td>\n",
       "      <td>$21487.97</td>\n",
       "      <td>$28361.72</td>\n",
       "      <td>$753.13</td>\n",
       "    </tr>\n",
       "    <tr>\n",
       "      <th>2</th>\n",
       "      <td>2</td>\n",
       "      <td>Fiscal</td>\n",
       "      <td>2018</td>\n",
       "      <td>Community Health</td>\n",
       "      <td>NaN</td>\n",
       "      <td>SEIU, Local 1021, Misc</td>\n",
       "      <td>Dietary &amp; Food</td>\n",
       "      <td>Food Service Worker</td>\n",
       "      <td>8512207</td>\n",
       "      <td>$12468.31</td>\n",
       "      <td>$13863.98</td>\n",
       "      <td>$4464.84</td>\n",
       "    </tr>\n",
       "    <tr>\n",
       "      <th>3</th>\n",
       "      <td>3</td>\n",
       "      <td>Fiscal</td>\n",
       "      <td>2018</td>\n",
       "      <td>Public Protection</td>\n",
       "      <td>NaN</td>\n",
       "      <td>SEIU, Local 1021, Misc</td>\n",
       "      <td>Correction &amp; Detention</td>\n",
       "      <td>Counselor, Juvenile Hall SFERS</td>\n",
       "      <td>8542154</td>\n",
       "      <td>$0.0</td>\n",
       "      <td>$0.0</td>\n",
       "      <td>$1787.63</td>\n",
       "    </tr>\n",
       "    <tr>\n",
       "      <th>4</th>\n",
       "      <td>4</td>\n",
       "      <td>Fiscal</td>\n",
       "      <td>2017</td>\n",
       "      <td>Public Protection</td>\n",
       "      <td>POL Police</td>\n",
       "      <td>SEIU - Miscellaneous, Local 1021</td>\n",
       "      <td>Protection &amp; Apprehension</td>\n",
       "      <td>Police Cadet</td>\n",
       "      <td>48828</td>\n",
       "      <td>$4489.2</td>\n",
       "      <td>$8003.53</td>\n",
       "      <td>$2015.35</td>\n",
       "    </tr>\n",
       "  </tbody>\n",
       "</table>\n",
       "</div>"
      ],
      "text/plain": [
       "   Id Year Type  Year                       Organization Group  Department  \\\n",
       "0   0  Calendar  2017  Public Works, Transportation & Commerce         NaN   \n",
       "1   1  Calendar  2019                        Public Protection         NaN   \n",
       "2   2    Fiscal  2018                         Community Health         NaN   \n",
       "3   3    Fiscal  2018                        Public Protection         NaN   \n",
       "4   4    Fiscal  2017                        Public Protection  POL Police   \n",
       "\n",
       "                              Union                 Job Family  \\\n",
       "0       Electrical Workers, Local 6           Journeyman Trade   \n",
       "1            SEIU, Local 1021, Misc     Correction & Detention   \n",
       "2            SEIU, Local 1021, Misc             Dietary & Food   \n",
       "3            SEIU, Local 1021, Misc     Correction & Detention   \n",
       "4  SEIU - Miscellaneous, Local 1021  Protection & Apprehension   \n",
       "\n",
       "                              Job  Employee Identifier Retirement  \\\n",
       "0          Electrical Line Worker              8549078       $0.0   \n",
       "1   Counselor, Juvenile Hall PERS              8546443  $21487.97   \n",
       "2             Food Service Worker              8512207  $12468.31   \n",
       "3  Counselor, Juvenile Hall SFERS              8542154       $0.0   \n",
       "4                    Police Cadet                48828    $4489.2   \n",
       "\n",
       "  Health and Dental Other Benefits  \n",
       "0         $13051.16           $0.0  \n",
       "1         $28361.72        $753.13  \n",
       "2         $13863.98       $4464.84  \n",
       "3              $0.0       $1787.63  \n",
       "4          $8003.53       $2015.35  "
      ]
     },
     "execution_count": 143,
     "metadata": {},
     "output_type": "execute_result"
    }
   ],
   "source": [
    "# Code Starts here\n",
    "test= pd.read_csv(r\"C:\\Users\\vaibh\\Desktop\\Python DS\\Sprint 6_Move to Melbourne\\Sprint 6_Employee Compensation Analysis\\file (1)\\test.csv\")\n",
    "Id=test['Id'].copy()\n",
    "test.head()"
   ]
  },
  {
   "cell_type": "code",
   "execution_count": 144,
   "metadata": {},
   "outputs": [],
   "source": [
    "test.drop(['Id'], axis=1, inplace=True)\n",
    "test.drop(['Department'], axis=1, inplace=True)\n",
    "test.drop(['Employee Identifier'], axis=1, inplace=True)\n",
    "test.drop(['Job'],axis=1, inplace=True)\n",
    "# Code ends here"
   ]
  },
  {
   "cell_type": "code",
   "execution_count": 145,
   "metadata": {},
   "outputs": [
    {
     "name": "stdout",
     "output_type": "stream",
     "text": [
      "Year Type              0\n",
      "Year                   0\n",
      "Organization Group     0\n",
      "Union                 95\n",
      "Job Family             0\n",
      "Retirement             0\n",
      "Health and Dental      0\n",
      "Other Benefits         0\n",
      "dtype: int64\n"
     ]
    }
   ],
   "source": [
    "print(test.isnull().sum())"
   ]
  },
  {
   "cell_type": "code",
   "execution_count": 146,
   "metadata": {},
   "outputs": [],
   "source": [
    "# Fill the empty values from 'Union' column as 'Unrepresented'\n",
    "test.fillna('Unrepresented', inplace=True)"
   ]
  },
  {
   "cell_type": "code",
   "execution_count": 147,
   "metadata": {},
   "outputs": [],
   "source": [
    "# We have columns with compensations stored in form of strings. We need to clean it and convert this to numeric. \n",
    "# Call the clean_dollar() to do the same. \n",
    "curr_columns=['Retirement','Health and Dental','Other Benefits']\n",
    "test['Retirement']= clean_dollar(test, 'Retirement')\n",
    "test['Health and Dental']= clean_dollar(test, 'Health and Dental')\n",
    "test['Other Benefits']= clean_dollar(test, 'Other Benefits')"
   ]
  },
  {
   "cell_type": "code",
   "execution_count": 148,
   "metadata": {},
   "outputs": [],
   "source": [
    "# Apply some good transformation if required. Call transform_column() to do the same.\n",
    "test['Retirement']= power_trans(test,'Retirement',0.56)\n",
    "test['Health and Dental']= power_trans(test,'Health and Dental',0.77)\n",
    "test['Other Benefits']= power_trans(test,'Other Benefits',0.53)"
   ]
  },
  {
   "cell_type": "code",
   "execution_count": 149,
   "metadata": {},
   "outputs": [
    {
     "name": "stdout",
     "output_type": "stream",
     "text": [
      "(177220, 8)\n"
     ]
    },
    {
     "data": {
      "text/plain": [
       "Year Type                  2\n",
       "Year                       8\n",
       "Organization Group         7\n",
       "Union                    122\n",
       "Job Family                59\n",
       "Retirement             95189\n",
       "Health and Dental      52831\n",
       "Other Benefits        118091\n",
       "dtype: int64"
      ]
     },
     "execution_count": 149,
     "metadata": {},
     "output_type": "execute_result"
    }
   ],
   "source": [
    "# Checking the number of unique values for every feature before encoding the categorical columns.\n",
    "print(test.shape)\n",
    "test.nunique()"
   ]
  },
  {
   "cell_type": "code",
   "execution_count": 55,
   "metadata": {},
   "outputs": [],
   "source": [
    "# We can use One Hot Encoding or Label Encoding to convert the categorical columns to numeric.\n",
    "#Call the encode_category() with the list of columns and the method of encoding to do the same.\n",
    "test= pd.concat([pd.get_dummies(test['Organization Group']),test], axis=1)\n",
    "test= pd.concat([pd.get_dummies(test['Job Family']),test], axis=1)\n",
    "test= pd.concat([pd.get_dummies(test['Union']),test], axis=1)\n",
    "test= pd.concat([pd.get_dummies(test['Year']),test], axis=1)\n",
    "test= pd.concat([pd.get_dummies(test['Year Type']),test], axis=1)"
   ]
  },
  {
   "cell_type": "code",
   "execution_count": 150,
   "metadata": {},
   "outputs": [
    {
     "name": "stdout",
     "output_type": "stream",
     "text": [
      "(177220, 3)\n",
      "Retirement           0\n",
      "Health and Dental    0\n",
      "Other Benefits       0\n",
      "dtype: int64\n",
      "Numerical Columns- ['Retirement', 'Health and Dental', 'Other Benefits']\n",
      "Categorical Columns- []\n"
     ]
    },
    {
     "data": {
      "text/html": [
       "<div>\n",
       "<style scoped>\n",
       "    .dataframe tbody tr th:only-of-type {\n",
       "        vertical-align: middle;\n",
       "    }\n",
       "\n",
       "    .dataframe tbody tr th {\n",
       "        vertical-align: top;\n",
       "    }\n",
       "\n",
       "    .dataframe thead th {\n",
       "        text-align: right;\n",
       "    }\n",
       "</style>\n",
       "<table border=\"1\" class=\"dataframe\">\n",
       "  <thead>\n",
       "    <tr style=\"text-align: right;\">\n",
       "      <th></th>\n",
       "      <th>Retirement</th>\n",
       "      <th>Health and Dental</th>\n",
       "      <th>Other Benefits</th>\n",
       "      <th>Total Compensation</th>\n",
       "    </tr>\n",
       "  </thead>\n",
       "  <tbody>\n",
       "    <tr>\n",
       "      <th>0</th>\n",
       "      <td>0.000000</td>\n",
       "      <td>1517.195211</td>\n",
       "      <td>0.000000</td>\n",
       "      <td>0.00</td>\n",
       "    </tr>\n",
       "    <tr>\n",
       "      <th>1</th>\n",
       "      <td>0.000000</td>\n",
       "      <td>593.218649</td>\n",
       "      <td>36.252276</td>\n",
       "      <td>16176.35</td>\n",
       "    </tr>\n",
       "    <tr>\n",
       "      <th>2</th>\n",
       "      <td>0.000000</td>\n",
       "      <td>0.000000</td>\n",
       "      <td>0.000000</td>\n",
       "      <td>248.30</td>\n",
       "    </tr>\n",
       "    <tr>\n",
       "      <th>3</th>\n",
       "      <td>189.492844</td>\n",
       "      <td>1264.786104</td>\n",
       "      <td>85.318355</td>\n",
       "      <td>80020.86</td>\n",
       "    </tr>\n",
       "    <tr>\n",
       "      <th>4</th>\n",
       "      <td>214.947105</td>\n",
       "      <td>1424.533264</td>\n",
       "      <td>96.599782</td>\n",
       "      <td>101207.38</td>\n",
       "    </tr>\n",
       "  </tbody>\n",
       "</table>\n",
       "</div>"
      ],
      "text/plain": [
       "   Retirement  Health and Dental  Other Benefits  Total Compensation\n",
       "0    0.000000        1517.195211        0.000000                0.00\n",
       "1    0.000000         593.218649       36.252276            16176.35\n",
       "2    0.000000           0.000000        0.000000              248.30\n",
       "3  189.492844        1264.786104       85.318355            80020.86\n",
       "4  214.947105        1424.533264       96.599782           101207.38"
      ]
     },
     "execution_count": 150,
     "metadata": {},
     "output_type": "execute_result"
    }
   ],
   "source": [
    "test.drop(['Organization Group','Job Family','Union','Year','Year Type'],axis=1, inplace=True)\n",
    "print(test.shape)\n",
    "print(test.isnull().sum())\n",
    "# Now since we have encoded all the categorical columns, there shouldn't be any left in the data.\n",
    "# Check the same by calling num_and_cat_columns()\n",
    "num_cols,cat_cols= num_and_cat_columns(test)\n",
    "print(\"Numerical Columns-\",num_cols)\n",
    "print(\"Categorical Columns-\",cat_cols)\n",
    "train.head()"
   ]
  },
  {
   "cell_type": "code",
   "execution_count": 151,
   "metadata": {},
   "outputs": [],
   "source": [
    "# Split the train data into train and validation set\n",
    "X= train.drop('Total Compensation',1)\n",
    "y= train['Total Compensation']\n",
    "\n",
    "random_state=5\n",
    "X_train,X_test,y_train,y_test= train_test_split(X,y,random_state=random_state,test_size=0.3)\n",
    "    \n",
    "#Standardize the data\n",
    "Scaler= StandardScaler()\n",
    "X_train= Scaler.fit_transform(X_train)\n",
    "test=Scaler.transform(test)\n",
    "    \n",
    "#Initialize the Ridge Model\n",
    "ridge=Ridge()\n",
    "    \n",
    "#Polynomial Features\n",
    "poly= PolynomialFeatures()\n",
    "X_train=poly.fit_transform(X_train)\n",
    "test=poly.transform(test)\n",
    "\n",
    "#Predict the accuracy score\n",
    "ridge.fit(X_train,y_train)\n",
    "pred=ridge.predict(test)"
   ]
  },
  {
   "cell_type": "code",
   "execution_count": 152,
   "metadata": {},
   "outputs": [],
   "source": [
    "submission= pd.DataFrame({'Id':Id,'Total Compensation':pred})\n",
    "submission.to_csv(\"First_Submission_Ridge_withoutEncoding.csv\", index=False)"
   ]
  },
  {
   "cell_type": "code",
   "execution_count": null,
   "metadata": {},
   "outputs": [],
   "source": [
    "# In this project, Just drop the last remaining categorical Columns and don't use encoding. You get maximum score with this. "
   ]
  }
 ],
 "metadata": {
  "kernelspec": {
   "display_name": "Python 3",
   "language": "python",
   "name": "python3"
  },
  "language_info": {
   "codemirror_mode": {
    "name": "ipython",
    "version": 3
   },
   "file_extension": ".py",
   "mimetype": "text/x-python",
   "name": "python",
   "nbconvert_exporter": "python",
   "pygments_lexer": "ipython3",
   "version": "3.7.6"
  }
 },
 "nbformat": 4,
 "nbformat_minor": 2
}
