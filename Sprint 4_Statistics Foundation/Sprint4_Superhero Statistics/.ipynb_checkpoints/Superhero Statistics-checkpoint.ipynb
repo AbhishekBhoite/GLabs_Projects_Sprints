{
 "cells": [
  {
   "cell_type": "code",
   "execution_count": 2,
   "metadata": {},
   "outputs": [],
   "source": [
    "#Importing header files\n",
    "import pandas as pd\n",
    "import scipy.stats as stats\n",
    "import math\n",
    "import numpy as np\n",
    "import matplotlib.pyplot as plt\n",
    "from statsmodels.stats.weightstats import ztest\n",
    "from statsmodels.stats.weightstats import ztest\n",
    "from scipy.stats import chi2_contingency\n",
    "import seaborn as sns\n",
    "import warnings\n",
    "warnings.filterwarnings('ignore')"
   ]
  },
  {
   "cell_type": "code",
   "execution_count": 3,
   "metadata": {},
   "outputs": [
    {
     "data": {
      "text/html": [
       "<div>\n",
       "<style scoped>\n",
       "    .dataframe tbody tr th:only-of-type {\n",
       "        vertical-align: middle;\n",
       "    }\n",
       "\n",
       "    .dataframe tbody tr th {\n",
       "        vertical-align: top;\n",
       "    }\n",
       "\n",
       "    .dataframe thead th {\n",
       "        text-align: right;\n",
       "    }\n",
       "</style>\n",
       "<table border=\"1\" class=\"dataframe\">\n",
       "  <thead>\n",
       "    <tr style=\"text-align: right;\">\n",
       "      <th></th>\n",
       "      <th>ID</th>\n",
       "      <th>Name</th>\n",
       "      <th>Alignment</th>\n",
       "      <th>Gender</th>\n",
       "      <th>Intelligence</th>\n",
       "      <th>Strength</th>\n",
       "      <th>Speed</th>\n",
       "      <th>Durability</th>\n",
       "      <th>Power</th>\n",
       "      <th>Combat</th>\n",
       "      <th>Total</th>\n",
       "      <th>Height</th>\n",
       "      <th>Weight</th>\n",
       "      <th>SkinColor</th>\n",
       "      <th>EyeColor</th>\n",
       "      <th>HairColor</th>\n",
       "      <th>Race</th>\n",
       "    </tr>\n",
       "  </thead>\n",
       "  <tbody>\n",
       "    <tr>\n",
       "      <th>0</th>\n",
       "      <td>0</td>\n",
       "      <td>3-D Man</td>\n",
       "      <td>good</td>\n",
       "      <td>Male</td>\n",
       "      <td>50</td>\n",
       "      <td>31</td>\n",
       "      <td>43</td>\n",
       "      <td>32</td>\n",
       "      <td>25</td>\n",
       "      <td>52</td>\n",
       "      <td>233</td>\n",
       "      <td>203.0</td>\n",
       "      <td>441</td>\n",
       "      <td>-</td>\n",
       "      <td>yellow</td>\n",
       "      <td>No Hair</td>\n",
       "      <td>Human</td>\n",
       "    </tr>\n",
       "    <tr>\n",
       "      <th>1</th>\n",
       "      <td>1</td>\n",
       "      <td>A-Bomb</td>\n",
       "      <td>good</td>\n",
       "      <td>Male</td>\n",
       "      <td>38</td>\n",
       "      <td>100</td>\n",
       "      <td>17</td>\n",
       "      <td>80</td>\n",
       "      <td>17</td>\n",
       "      <td>64</td>\n",
       "      <td>316</td>\n",
       "      <td>191.0</td>\n",
       "      <td>65</td>\n",
       "      <td>blue</td>\n",
       "      <td>blue</td>\n",
       "      <td>No Hair</td>\n",
       "      <td>Icthyo Sapien</td>\n",
       "    </tr>\n",
       "    <tr>\n",
       "      <th>2</th>\n",
       "      <td>2</td>\n",
       "      <td>Abe Sapien</td>\n",
       "      <td>good</td>\n",
       "      <td>Male</td>\n",
       "      <td>88</td>\n",
       "      <td>14</td>\n",
       "      <td>35</td>\n",
       "      <td>42</td>\n",
       "      <td>35</td>\n",
       "      <td>85</td>\n",
       "      <td>299</td>\n",
       "      <td>185.0</td>\n",
       "      <td>90</td>\n",
       "      <td>red</td>\n",
       "      <td>blue</td>\n",
       "      <td>No Hair</td>\n",
       "      <td>Ungaran</td>\n",
       "    </tr>\n",
       "    <tr>\n",
       "      <th>3</th>\n",
       "      <td>3</td>\n",
       "      <td>Abin Sur</td>\n",
       "      <td>good</td>\n",
       "      <td>Male</td>\n",
       "      <td>50</td>\n",
       "      <td>90</td>\n",
       "      <td>53</td>\n",
       "      <td>64</td>\n",
       "      <td>84</td>\n",
       "      <td>65</td>\n",
       "      <td>406</td>\n",
       "      <td>203.0</td>\n",
       "      <td>441</td>\n",
       "      <td>-</td>\n",
       "      <td>green</td>\n",
       "      <td>No Hair</td>\n",
       "      <td>Human / Radiation</td>\n",
       "    </tr>\n",
       "    <tr>\n",
       "      <th>4</th>\n",
       "      <td>4</td>\n",
       "      <td>Abomination</td>\n",
       "      <td>bad</td>\n",
       "      <td>Male</td>\n",
       "      <td>63</td>\n",
       "      <td>80</td>\n",
       "      <td>53</td>\n",
       "      <td>90</td>\n",
       "      <td>55</td>\n",
       "      <td>95</td>\n",
       "      <td>436</td>\n",
       "      <td>-99.0</td>\n",
       "      <td>-99</td>\n",
       "      <td>-</td>\n",
       "      <td>blue</td>\n",
       "      <td>Black</td>\n",
       "      <td>Cosmic Entity</td>\n",
       "    </tr>\n",
       "    <tr>\n",
       "      <th>...</th>\n",
       "      <td>...</td>\n",
       "      <td>...</td>\n",
       "      <td>...</td>\n",
       "      <td>...</td>\n",
       "      <td>...</td>\n",
       "      <td>...</td>\n",
       "      <td>...</td>\n",
       "      <td>...</td>\n",
       "      <td>...</td>\n",
       "      <td>...</td>\n",
       "      <td>...</td>\n",
       "      <td>...</td>\n",
       "      <td>...</td>\n",
       "      <td>...</td>\n",
       "      <td>...</td>\n",
       "      <td>...</td>\n",
       "      <td>...</td>\n",
       "    </tr>\n",
       "    <tr>\n",
       "      <th>589</th>\n",
       "      <td>606</td>\n",
       "      <td>Yellowjacket</td>\n",
       "      <td>good</td>\n",
       "      <td>Female</td>\n",
       "      <td>88</td>\n",
       "      <td>10</td>\n",
       "      <td>12</td>\n",
       "      <td>28</td>\n",
       "      <td>12</td>\n",
       "      <td>14</td>\n",
       "      <td>164</td>\n",
       "      <td>168.0</td>\n",
       "      <td>52</td>\n",
       "      <td>-</td>\n",
       "      <td>blue</td>\n",
       "      <td>Strawberry Blond</td>\n",
       "      <td>-</td>\n",
       "    </tr>\n",
       "    <tr>\n",
       "      <th>590</th>\n",
       "      <td>607</td>\n",
       "      <td>Yellowjacket II</td>\n",
       "      <td>good</td>\n",
       "      <td>Male</td>\n",
       "      <td>50</td>\n",
       "      <td>10</td>\n",
       "      <td>35</td>\n",
       "      <td>28</td>\n",
       "      <td>31</td>\n",
       "      <td>28</td>\n",
       "      <td>182</td>\n",
       "      <td>198.0</td>\n",
       "      <td>180</td>\n",
       "      <td>-</td>\n",
       "      <td>green</td>\n",
       "      <td>Black</td>\n",
       "      <td>-</td>\n",
       "    </tr>\n",
       "    <tr>\n",
       "      <th>591</th>\n",
       "      <td>608</td>\n",
       "      <td>Ymir</td>\n",
       "      <td>good</td>\n",
       "      <td>Male</td>\n",
       "      <td>50</td>\n",
       "      <td>100</td>\n",
       "      <td>27</td>\n",
       "      <td>100</td>\n",
       "      <td>83</td>\n",
       "      <td>28</td>\n",
       "      <td>388</td>\n",
       "      <td>-99.0</td>\n",
       "      <td>-99</td>\n",
       "      <td>-</td>\n",
       "      <td>-</td>\n",
       "      <td>-</td>\n",
       "      <td>Animal</td>\n",
       "    </tr>\n",
       "    <tr>\n",
       "      <th>592</th>\n",
       "      <td>609</td>\n",
       "      <td>Zatanna</td>\n",
       "      <td>good</td>\n",
       "      <td>Female</td>\n",
       "      <td>75</td>\n",
       "      <td>10</td>\n",
       "      <td>23</td>\n",
       "      <td>28</td>\n",
       "      <td>100</td>\n",
       "      <td>56</td>\n",
       "      <td>292</td>\n",
       "      <td>178.0</td>\n",
       "      <td>49</td>\n",
       "      <td>-</td>\n",
       "      <td>white</td>\n",
       "      <td>Blond</td>\n",
       "      <td>-</td>\n",
       "    </tr>\n",
       "    <tr>\n",
       "      <th>593</th>\n",
       "      <td>610</td>\n",
       "      <td>Zoom</td>\n",
       "      <td>bad</td>\n",
       "      <td>Male</td>\n",
       "      <td>50</td>\n",
       "      <td>10</td>\n",
       "      <td>100</td>\n",
       "      <td>28</td>\n",
       "      <td>72</td>\n",
       "      <td>28</td>\n",
       "      <td>288</td>\n",
       "      <td>-99.0</td>\n",
       "      <td>-99</td>\n",
       "      <td>-</td>\n",
       "      <td>white</td>\n",
       "      <td>No Hair</td>\n",
       "      <td>-</td>\n",
       "    </tr>\n",
       "  </tbody>\n",
       "</table>\n",
       "<p>594 rows × 17 columns</p>\n",
       "</div>"
      ],
      "text/plain": [
       "      ID             Name Alignment  Gender  Intelligence  Strength  Speed  \\\n",
       "0      0          3-D Man      good    Male            50        31     43   \n",
       "1      1           A-Bomb      good    Male            38       100     17   \n",
       "2      2       Abe Sapien      good    Male            88        14     35   \n",
       "3      3         Abin Sur      good    Male            50        90     53   \n",
       "4      4      Abomination       bad    Male            63        80     53   \n",
       "..   ...              ...       ...     ...           ...       ...    ...   \n",
       "589  606     Yellowjacket      good  Female            88        10     12   \n",
       "590  607  Yellowjacket II      good    Male            50        10     35   \n",
       "591  608             Ymir      good    Male            50       100     27   \n",
       "592  609          Zatanna      good  Female            75        10     23   \n",
       "593  610             Zoom       bad    Male            50        10    100   \n",
       "\n",
       "     Durability  Power  Combat  Total  Height  Weight SkinColor EyeColor  \\\n",
       "0            32     25      52    233   203.0     441         -   yellow   \n",
       "1            80     17      64    316   191.0      65      blue     blue   \n",
       "2            42     35      85    299   185.0      90       red     blue   \n",
       "3            64     84      65    406   203.0     441         -    green   \n",
       "4            90     55      95    436   -99.0     -99         -     blue   \n",
       "..          ...    ...     ...    ...     ...     ...       ...      ...   \n",
       "589          28     12      14    164   168.0      52         -     blue   \n",
       "590          28     31      28    182   198.0     180         -    green   \n",
       "591         100     83      28    388   -99.0     -99         -        -   \n",
       "592          28    100      56    292   178.0      49         -    white   \n",
       "593          28     72      28    288   -99.0     -99         -    white   \n",
       "\n",
       "            HairColor               Race  \n",
       "0             No Hair              Human  \n",
       "1             No Hair      Icthyo Sapien  \n",
       "2             No Hair            Ungaran  \n",
       "3             No Hair  Human / Radiation  \n",
       "4               Black      Cosmic Entity  \n",
       "..                ...                ...  \n",
       "589  Strawberry Blond                  -  \n",
       "590             Black                  -  \n",
       "591                 -             Animal  \n",
       "592             Blond                  -  \n",
       "593           No Hair                  -  \n",
       "\n",
       "[594 rows x 17 columns]"
      ]
     },
     "execution_count": 3,
     "metadata": {},
     "output_type": "execute_result"
    }
   ],
   "source": [
    "data=pd.read_csv(r\"C:\\Users\\vaibh\\Desktop\\Python DS\\Sprint 4_Statistics Foundation\\Sprint4_Superhero Statistics\\file (7).csv\")\n",
    "data"
   ]
  },
  {
   "cell_type": "code",
   "execution_count": 4,
   "metadata": {},
   "outputs": [
    {
     "name": "stdout",
     "output_type": "stream",
     "text": [
      "<class 'pandas.core.frame.DataFrame'>\n",
      "RangeIndex: 594 entries, 0 to 593\n",
      "Data columns (total 17 columns):\n",
      " #   Column        Non-Null Count  Dtype  \n",
      "---  ------        --------------  -----  \n",
      " 0   ID            594 non-null    int64  \n",
      " 1   Name          594 non-null    object \n",
      " 2   Alignment     594 non-null    object \n",
      " 3   Gender        594 non-null    object \n",
      " 4   Intelligence  594 non-null    int64  \n",
      " 5   Strength      594 non-null    int64  \n",
      " 6   Speed         594 non-null    int64  \n",
      " 7   Durability    594 non-null    int64  \n",
      " 8   Power         594 non-null    int64  \n",
      " 9   Combat        594 non-null    int64  \n",
      " 10  Total         594 non-null    int64  \n",
      " 11  Height        594 non-null    float64\n",
      " 12  Weight        594 non-null    int64  \n",
      " 13  SkinColor     594 non-null    object \n",
      " 14  EyeColor      594 non-null    object \n",
      " 15  HairColor     594 non-null    object \n",
      " 16  Race          594 non-null    object \n",
      "dtypes: float64(1), int64(9), object(7)\n",
      "memory usage: 79.0+ KB\n"
     ]
    }
   ],
   "source": [
    "data.info()"
   ]
  },
  {
   "cell_type": "code",
   "execution_count": 9,
   "metadata": {},
   "outputs": [],
   "source": [
    "# In the column Gender, replace '-' with 'Agender' using \"replace()\" function. \n",
    "data['Gender'].replace('-','Agender', inplace=True)"
   ]
  },
  {
   "cell_type": "code",
   "execution_count": 14,
   "metadata": {},
   "outputs": [
    {
     "data": {
      "image/png": "[encoded data removed]",
      "text/plain": [
       "<Figure size 432x288 with 1 Axes>"
      ]
     },
     "metadata": {
      "needs_background": "light"
     },
     "output_type": "display_data"
    }
   ],
   "source": [
    "# Check the distribution of Gender by ploting a graph with proper labels.\n",
    "data['Gender'].value_counts().plot(kind='bar', title=\"Gender Distribution of Superheroes\", rot=False)\n",
    "plt.ylabel('Number of Superheroes')\n",
    "plt.show()"
   ]
  },
  {
   "cell_type": "code",
   "execution_count": 16,
   "metadata": {},
   "outputs": [
    {
     "data": {
      "image/png": "[encoded data removed]",
      "text/plain": [
       "<Figure size 432x288 with 1 Axes>"
      ]
     },
     "metadata": {
      "needs_background": "light"
     },
     "output_type": "display_data"
    }
   ],
   "source": [
    "# Does good overpower evil or does evil overwhelm good? \n",
    "data['Alignment'].value_counts().plot(kind='bar', title='Does good overpower evil or does evil overwhelm good?', rot=False)\n",
    "plt.ylabel('Number of Superheroes')\n",
    "plt.show()"
   ]
  },
  {
   "cell_type": "code",
   "execution_count": 17,
   "metadata": {},
   "outputs": [],
   "source": [
    "from scipy.stats import spearmanr\n",
    "from scipy.stats import pearsonr"
   ]
  },
  {
   "cell_type": "code",
   "execution_count": 19,
   "metadata": {},
   "outputs": [
    {
     "name": "stdout",
     "output_type": "stream",
     "text": [
      "Pearsons correlation between Combat & Strength: 0.572\n",
      "Spearmans correlation between Combat & Strength: 0.745\n"
     ]
    }
   ],
   "source": [
    "# Check out if combat relate to person's strength or it's intelligence? \n",
    "\n",
    "# calculate Pearson's correlation\n",
    "corr, _ = pearsonr(data['Combat'], data['Strength'])\n",
    "print('Pearsons correlation between Combat & Strength: %.3f' % corr)\n",
    "\n",
    "# calculate spearman's correlation\n",
    "corr, _ = spearmanr(data['Combat'], data['Strength'])\n",
    "print('Spearmans correlation between Combat & Strength: %.3f' % corr)"
   ]
  },
  {
   "cell_type": "code",
   "execution_count": 20,
   "metadata": {},
   "outputs": [
    {
     "name": "stdout",
     "output_type": "stream",
     "text": [
      "Pearsons correlation between Combat & Intelligence: 0.782\n",
      "Spearmans correlation between Combat & Intelligence: 0.752\n"
     ]
    }
   ],
   "source": [
    "# Check out if combat relate to person's strength or it's intelligence? \n",
    "\n",
    "# calculate Pearson's correlation\n",
    "corr, _ = pearsonr(data['Combat'], data['Intelligence'])\n",
    "print('Pearsons correlation between Combat & Intelligence: %.3f' % corr)\n",
    "\n",
    "# calculate spearman's correlation\n",
    "corr, _ = spearmanr(data['Combat'], data['Intelligence'])\n",
    "print('Spearmans correlation between Combat & Intelligence: %.3f' % corr)"
   ]
  },
  {
   "cell_type": "code",
   "execution_count": 24,
   "metadata": {},
   "outputs": [
    {
     "data": {
      "text/plain": [
       "554.0500000000008"
      ]
     },
     "execution_count": 24,
     "metadata": {},
     "output_type": "execute_result"
    }
   ],
   "source": [
    "# Find out who are the best of the best in this superhero universe?\n",
    "\n",
    "#This can be done by finding the value of quantile = 0.99 for the Total column. \n",
    "Quantile_99= data.Total.quantile(0.99) # 99th percentile\n",
    "Quantile_99"
   ]
  },
  {
   "cell_type": "code",
   "execution_count": 26,
   "metadata": {},
   "outputs": [
    {
     "data": {
      "text/plain": [
       "['Amazo',\n",
       " 'General Zod',\n",
       " 'Martian Manhunter',\n",
       " 'Stardust',\n",
       " 'Superboy-Prime',\n",
       " 'Superman']"
      ]
     },
     "execution_count": 26,
     "metadata": {},
     "output_type": "execute_result"
    }
   ],
   "source": [
    "# Create a list of the names from 'Name' associated with this subset and store in super_best_list in form of a list. \n",
    "super_best_list= list()\n",
    "for i in range(len(data.Total)):\n",
    "    if data.Total[i]>=Quantile_99:\n",
    "        super_best_list.append(data.Name[i])\n",
    "\n",
    "# These are the best of the best in the superhero universe.\n",
    "super_best_list        "
   ]
  },
  {
   "cell_type": "code",
   "execution_count": null,
   "metadata": {},
   "outputs": [],
   "source": []
  }
 ],
 "metadata": {
  "kernelspec": {
   "display_name": "Python 3",
   "language": "python",
   "name": "python3"
  },
  "language_info": {
   "codemirror_mode": {
    "name": "ipython",
    "version": 3
   },
   "file_extension": ".py",
   "mimetype": "text/x-python",
   "name": "python",
   "nbconvert_exporter": "python",
   "pygments_lexer": "ipython3",
   "version": "3.7.6"
  }
 },
 "nbformat": 4,
 "nbformat_minor": 4
}
